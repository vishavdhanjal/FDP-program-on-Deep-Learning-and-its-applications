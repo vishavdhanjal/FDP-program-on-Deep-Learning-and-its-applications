{
 "cells": [
  {
   "cell_type": "markdown",
   "metadata": {},
   "source": [
    "# Joint Winter NKN Faculty Development Program 2019-20 (9-13 Dec 2019)"
   ]
  },
  {
   "cell_type": "markdown",
   "metadata": {},
   "source": [
    "## Deep Learning & Applications "
   ]
  },
  {
   "cell_type": "markdown",
   "metadata": {},
   "source": [
    "**Principal Coordinator - IIITDM Jabalpur : Co-Principal Coordinator - NIT Warangal**\n",
    "\n",
    "**Particiapting Academies -** IIITDM Jabalpur, MNIT Jaipur, NIT Patna, NIT Warangal"
   ]
  },
  {
   "cell_type": "markdown",
   "metadata": {},
   "source": [
    "# Tutorial 1: Introduction to Python"
   ]
  },
  {
   "cell_type": "markdown",
   "metadata": {},
   "source": [
    "* Welcome to your first lab session on Python!  \n",
    "\n",
    "* This tutorial contains some basic functions and syntax of Python, at the end of the tutorial some programming exercises are given to help you test your understanding on Python programming. \n",
    "\n",
    "* Here we give you a very brief overview of Python programming with concepts and functions that will be used later in lab sessions and assignments. \n",
    "\n",
    "* For detailed description of each concepts covered here, you may refer the official websites of Python (https://www.python.org/) and NumPy (http://www.numpy.org/). "
   ]
  },
  {
   "cell_type": "markdown",
   "metadata": {},
   "source": [
    "Python is a programming language that lets you work quickly\n",
    "and integrate systems more effectively. Some features of python programming are:\n",
    "\n",
    "* A variety of basic data types are available: numbers (floating point, complex, and unlimited-length long integers), strings (both ASCII and Unicode), lists, and dictionaries.\n",
    "\n",
    "* Python supports object-oriented programming with classes and multiple inheritances.\n",
    "\n",
    "* Code can be grouped into modules and packages.\n",
    "* The language supports raising and catching exceptions, resulting in cleaner error handling.\n",
    "* Data types are strongly and dynamically typed. Mixing incompatible types (e.g. attempting to add a string and a number) causes an exception to be raised, so errors are caught sooner.\n",
    "* Python contains advanced programming features such as generators and list comprehensions.\n",
    "* Python's automatic memory management frees you from having to manually allocate and free memory in your code."
   ]
  },
  {
   "cell_type": "markdown",
   "metadata": {},
   "source": [
    "**1. Your first Python Code: Print a string** - print() function displays the output on the console."
   ]
  },
  {
   "cell_type": "code",
   "execution_count": null,
   "metadata": {},
   "outputs": [],
   "source": [
    "print ('Welcome to the Joint NKN FDP on Deep Learning & Applications!')"
   ]
  },
  {
   "cell_type": "markdown",
   "metadata": {},
   "source": [
    "**2. Input and assignment** - input() function takes user's  input."
   ]
  },
  {
   "cell_type": "code",
   "execution_count": null,
   "metadata": {},
   "outputs": [],
   "source": [
    "name = input('What is your name?\\n')\n",
    "print ('Welcome ' + name + ' to the FDP on Deep Learning and Applications!')"
   ]
  },
  {
   "cell_type": "markdown",
   "metadata": {},
   "source": [
    "**Important note: Python is indent sensitive.** \n",
    "\n",
    "* Python is case sensitive.\n",
    "\n",
    "* Python is also indent sensitive.\n",
    "\n",
    "* If you observe the 'for loop' and the 'if-else' statement, there is indent within the loop. \n",
    "\n",
    "* For example if you run the following code, it will show \"IndentationError\". \n",
    "\n",
    "* Run the cell to see the error and correct the code by putting indent. "
   ]
  },
  {
   "cell_type": "code",
   "execution_count": null,
   "metadata": {},
   "outputs": [],
   "source": [
    "for number in [1,10,20,30,40,50]: \n",
    "print(number,\"\\n\")"
   ]
  },
  {
   "cell_type": "markdown",
   "metadata": {},
   "source": [
    "**3. If Else Statement** -"
   ]
  },
  {
   "cell_type": "code",
   "execution_count": null,
   "metadata": {},
   "outputs": [],
   "source": [
    "num = input(\"number\")\n",
    "if int(num) > 0:\n",
    "    print(\"Positive number\")\n",
    "elif int(num) == 0:\n",
    "    print(\"Zero\")\n",
    "else:\n",
    "    print(\"Negative number\")"
   ]
  },
  {
   "cell_type": "markdown",
   "metadata": {},
   "source": [
    "**4. Loops in Python** - We can iterate loop using various types. Here we are using built-in enumerate function."
   ]
  },
  {
   "cell_type": "code",
   "execution_count": null,
   "metadata": {},
   "outputs": [],
   "source": [
    "names = ['IIITDM Jabalpur', 'NIT Warangal', 'MNIT Jaipur', 'NIT Patna']\n",
    "print('Participating Academies:')\n",
    "for i, name in enumerate(names):\n",
    "    print (\"{iteration} : {name}\".format(iteration=i+1, name=name))"
   ]
  },
  {
   "cell_type": "markdown",
   "metadata": {},
   "source": [
    "**5. While Loop** - Same as other programming languages"
   ]
  },
  {
   "cell_type": "code",
   "execution_count": null,
   "metadata": {},
   "outputs": [],
   "source": [
    "names = ['IIITDM Jabalpur', 'NIT Warangal', 'MNIT Jaipur', 'NIT Patna']\n",
    "value=0\n",
    "print('Participating Academies:')\n",
    "while value<len(names):\n",
    "    print(\"{iteration} : {name}\".format(iteration=value+1, name=names[value]))\n",
    "    value+=1"
   ]
  },
  {
   "cell_type": "markdown",
   "metadata": {},
   "source": [
    "**6. Defining Function** - Just write def function_name(parameters)"
   ]
  },
  {
   "cell_type": "code",
   "execution_count": null,
   "metadata": {},
   "outputs": [],
   "source": [
    "def add(x,y):\n",
    "    print ('Addition is :', x+y)\n",
    "\n",
    "add(12,-10)"
   ]
  },
  {
   "cell_type": "markdown",
   "metadata": {},
   "source": [
    "**7. Dictionary** - Dictionary is an associative array of python "
   ]
  },
  {
   "cell_type": "code",
   "execution_count": null,
   "metadata": {},
   "outputs": [],
   "source": [
    "prices = {'apple': 5, 'banana': 4}\n",
    "my_purchase = {'apple': input('apple :'),'banana': input('banana :')}\n",
    "grocery_bill = sum(prices[fruit] * int(my_purchase[fruit])\n",
    "                   for fruit in my_purchase)\n",
    "print ('Total Bill : %.2f' % grocery_bill +' rupees')"
   ]
  },
  {
   "cell_type": "markdown",
   "metadata": {},
   "source": [
    "**8. List** -"
   ]
  },
  {
   "cell_type": "code",
   "execution_count": null,
   "metadata": {},
   "outputs": [],
   "source": [
    "dynamic_languages = ['Python', 'Ruby', 'Groovy']\n",
    "dynamic_languages.append('Lisp')\n",
    "dynamic_languages"
   ]
  },
  {
   "cell_type": "markdown",
   "metadata": {},
   "source": [
    "**9. Exception Handling** - try and except blocks are used for exception handling "
   ]
  },
  {
   "cell_type": "code",
   "execution_count": null,
   "metadata": {},
   "outputs": [],
   "source": [
    "while True:\n",
    "    try:\n",
    "        x = int(input(\"Please enter a number: \"))\n",
    "        break\n",
    "    except ValueError:\n",
    "        print(\"Oops!  That was no valid number.  Try again...\")"
   ]
  },
  {
   "cell_type": "markdown",
   "metadata": {},
   "source": [
    "**10. Multiline Strings** -"
   ]
  },
  {
   "cell_type": "code",
   "execution_count": null,
   "metadata": {},
   "outputs": [],
   "source": [
    "#triple quotes\n",
    "REFRAIN = '''\n",
    "%d \n",
    "%d \n",
    "'''\n",
    "count = 9\n",
    "while count > 1:\n",
    "    print (REFRAIN % (count, count - 1))\n",
    "    count -= 1"
   ]
  },
  {
   "cell_type": "markdown",
   "metadata": {},
   "source": [
    "**11. Class in python** -"
   ]
  },
  {
   "cell_type": "code",
   "execution_count": null,
   "metadata": {},
   "outputs": [],
   "source": [
    "# Class\n",
    "class BankAccount(object):\n",
    "    def __init__(self, initial_balance=0):\n",
    "        self.balance = initial_balance\n",
    "    def deposit(self, amount):\n",
    "        self.balance += amount\n",
    "    def withdraw(self, amount):\n",
    "        self.balance -= amount\n",
    "    def overdrawn(self):\n",
    "        return self.balance < 0\n",
    "my_account = BankAccount(100)\n",
    "withdraw=input('Amount you want to withdraw : ')\n",
    "my_account.withdraw(int(withdraw))\n",
    "print (my_account.balance, my_account.overdrawn())"
   ]
  },
  {
   "cell_type": "markdown",
   "metadata": {},
   "source": [
    "**12. CSV module** - "
   ]
  },
  {
   "cell_type": "code",
   "execution_count": null,
   "metadata": {},
   "outputs": [],
   "source": [
    "import csv\n",
    "\n",
    "# need to define cmp function in Python 3\n",
    "def cmp(a, b):\n",
    "    return (a > b) - (a < b)\n",
    "\n",
    "# write stocks data as comma-separated values\n",
    "with open('stocks.csv', 'w', newline='') as stocksFileW:\n",
    "    writer = csv.writer(stocksFileW)\n",
    "    writer.writerows([\n",
    "        ['GOOG', 'Google, Inc.', 505.24, 0.47, 0.09],\n",
    "        ['YHOO', 'Yahoo! Inc.', 27.38, 0.33, 1.22],\n",
    "        ['CNET', 'CNET Networks, Inc.', 8.62, -0.13, -1.4901]\n",
    "    ])\n",
    "\n",
    "# read stocks data, print status messages\n",
    "with open('stocks.csv', 'r') as stocksFile:\n",
    "    stocks = csv.reader(stocksFile)\n",
    "\n",
    "    status_labels = {-1: 'down', 0: 'unchanged', 1: 'up'}\n",
    "    for ticker, name, price, change, pct in stocks:\n",
    "        status = status_labels[cmp(float(change), 0.0)]\n",
    "        print ('%s is %s (%.2f)' % (name, status, float(pct)))"
   ]
  },
  {
   "cell_type": "markdown",
   "metadata": {},
   "source": [
    "**13- NumPy** -\n",
    "NumPy is a general-purpose fundamental package for scientific computing with Python."
   ]
  },
  {
   "cell_type": "code",
   "execution_count": null,
   "metadata": {},
   "outputs": [],
   "source": [
    "# First you need to import the NumPy Library \n",
    "import numpy as np\n",
    "\n",
    "b1 = np.array([1,2,3,5,5,8])    #Declaring a NumPy Array \n",
    "b2 = np.array([4,5,6,7,7,9])\n",
    "\n",
    "print(b1+b2)\n",
    "\n",
    "print(b2 * 3)\n",
    "print(\"No. of dimensions: \", b1.ndim)  # Rows in array, considered as a matrix. \n",
    "# Printing shape of array\n",
    "print(\"Shape of array: \", b1.shape)  # Dimension \n",
    "\n",
    "#reshaping an array\n",
    "r_b1=b1.reshape(2,3)\n",
    "\n",
    "print(\"Reshaped array: \", r_b1)\n",
    "print(\"Shape of array: \", r_b1.shape)\n",
    "\n",
    "# Printing size (total number of elements) of array\n",
    "print(\"Size of array: \", b1.size) # elements in a row or column elements. \n",
    " \n",
    "# Printing the datatype of elements in array\n",
    "print(\"Array stores elements of type: \", b1.dtype)\n"
   ]
  },
  {
   "cell_type": "markdown",
   "metadata": {},
   "source": [
    "**14. Operations on Arrays** -\n",
    "You can create arrays in NumPy in various ways."
   ]
  },
  {
   "cell_type": "code",
   "execution_count": null,
   "metadata": {},
   "outputs": [],
   "source": [
    "# array creation \n",
    "import numpy as np\n",
    " \n",
    "# Creating array from a list with type float\n",
    "A = np.array([[1, 2, 4], [5, 8, 7]], dtype = 'float')\n",
    "print(\"A : \",A)\n",
    "# Create a 3X4 array with all zeros. Please note, we have used double paranthesis. \n",
    "B = np.zeros((3, 4))\n",
    "print(\"B : \",B)\n",
    "# Create an arrary of complex numbers \n",
    "C = np.full((3, 3), 6, dtype = 'complex')\n",
    "print(\"C : \",C)\n",
    "# Create an array with random values\n",
    "np.random.seed(1) # A seed is set to ensure that the results are consistent if you use this array in future computations also.\n",
    "\n",
    "D = np.random.randn(2, 2)\n",
    "print(\"D : \",D)\n",
    "E = np.random.random((2, 2))  \n",
    "print(\"E : \",E)\n",
    "F = np.random.randint(3, 15, size=(2, 4))  \n",
    "print(\"F : \",F)"
   ]
  },
  {
   "cell_type": "markdown",
   "metadata": {},
   "source": [
    "**15. Array Reshaping** -"
   ]
  },
  {
   "cell_type": "code",
   "execution_count": null,
   "metadata": {},
   "outputs": [],
   "source": [
    "# Reshaping 3X4 array to 2X2X3 array\n",
    "A = np.array([[1, 2, 3, 4],\n",
    "                [5, 6, 7, 8],\n",
    "                [9, 1, 2, 3]])\n",
    " \n",
    "new_A = A.reshape(2, 2, 3)\n",
    "\n",
    "# Flatten array\n",
    "B = np.array([[1, 2, 3], [4, 5, 6]])\n",
    "flat_B= B.flatten()\n",
    "# column_flat_B('C')\n",
    " \n",
    "print (\"\\nOriginal array:\\n\", A)\n",
    "print (\"Reshaped array:\\n\", new_A)\n",
    "print (\"\\nOriginal array:\\n\", B)\n",
    "print (\"Fattened array:\\n\", flat_B)\n",
    "#print (\"Column Fattened array:\\n\", column_flat_B)\n",
    "\n"
   ]
  },
  {
   "cell_type": "markdown",
   "metadata": {},
   "source": [
    "**16. Broadcasting** -\n"
   ]
  },
  {
   "cell_type": "code",
   "execution_count": null,
   "metadata": {},
   "outputs": [],
   "source": [
    "a = np.array([[1,1,1],[1,1,1], [1,1,1]])\n",
    "b = np.array([2,2,2])\n",
    "c = a + b \n",
    "c1= a*b #element wise multiplication. This will also be broadcasted accordingly. \n",
    "\n",
    "print(c)\n",
    "print(c1)"
   ]
  },
  {
   "cell_type": "markdown",
   "metadata": {},
   "source": [
    "**17. Using matplotlib** -\n",
    "Matplotlib is a Python 2D plotting library."
   ]
  },
  {
   "cell_type": "code",
   "execution_count": null,
   "metadata": {},
   "outputs": [],
   "source": [
    "import numpy as np \n",
    "import matplotlib.pyplot as plt \n",
    "  \n",
    "# Computes x and y coordinates for  \n",
    "# points on sine and cosine curves \n",
    "x = np.arange(0, 3 * np.pi, 0.1) \n",
    "y_sin = np.sin(x) \n",
    "y_cos = np.cos(x) \n",
    "  \n",
    "# Plot the points using matplotlib \n",
    "plt.plot(x, y_sin) \n",
    "plt.plot(x, y_cos) \n",
    "plt.xlabel('x axis label') \n",
    "plt.ylabel('y axis label') \n",
    "plt.title('Sine and Cosine') \n",
    "plt.legend(['Sine', 'Cosine']) \n",
    "  \n",
    "plt.show() "
   ]
  },
  {
   "cell_type": "markdown",
   "metadata": {},
   "source": [
    "**18. Files I/O** -\n",
    "The file object provides a set of methods to read and write on files. Some examples are given below.  "
   ]
  },
  {
   "cell_type": "code",
   "execution_count": null,
   "metadata": {},
   "outputs": [],
   "source": [
    "# File open, read and write.\n",
    "\n",
    "file1 = open(\"sample.txt\", \"w+\")\n",
    "file1.write(\"Welcome to FDP on Deep Learning & Applications in IIITDM Jabalpur.!\");\n",
    "file1.close()\n",
    "\n",
    "# Open a file\n",
    "file_read = open(\"sample.txt\", \"r\")  \n",
    "str = file_read.read(80);   \n",
    "print(\"Name of the file: \", file_read.name)\n",
    "print(\"Read String from file is : \", str)\n",
    "# Close opend files\n",
    "file_read.close()"
   ]
  },
  {
   "cell_type": "markdown",
   "metadata": {},
   "source": [
    "**19. Using Images** -"
   ]
  },
  {
   "cell_type": "code",
   "execution_count": null,
   "metadata": {},
   "outputs": [],
   "source": [
    "import matplotlib.pyplot as plt\n",
    "import cv2\n",
    "import matplotlib.image as mpimg\n",
    "img=mpimg.imread('ict.png')\n",
    "\n",
    "print('Original Dimensions : ',img.shape)\n",
    " \n",
    "scale_percent = 80 # percent of original size\n",
    "width = int(img.shape[1] * scale_percent / 100)\n",
    "height = int(img.shape[0] * scale_percent / 100)\n",
    "dim = (width, height)\n",
    "# resize image\n",
    "resized = cv2.resize(img, dim, interpolation = cv2.INTER_AREA)\n",
    " \n",
    "print('Resized Dimensions : ',resized.shape)\n",
    "plt.figure(figsize=(40,100))\n",
    "imgplot = plt.imshow(resized)\n",
    "plt.show()"
   ]
  },
  {
   "cell_type": "markdown",
   "metadata": {},
   "source": [
    "**20. Pandas** -"
   ]
  },
  {
   "cell_type": "code",
   "execution_count": null,
   "metadata": {},
   "outputs": [],
   "source": [
    "import pandas as pd\n",
    "df = pd.DataFrame({'Name':['IIITDM Jabalpur', 'NIT Warangal', 'MNIT Jaipur', 'NIT Patna'], 'Participants':[84,94,89,86]});\n",
    "print(df)\n",
    "df.columns"
   ]
  },
  {
   "cell_type": "markdown",
   "metadata": {},
   "source": [
    "## Exercises "
   ]
  },
  {
   "cell_type": "markdown",
   "metadata": {},
   "source": [
    "**Exercise 1.** Take radius input from user and then calculate the area of circle. "
   ]
  },
  {
   "cell_type": "code",
   "execution_count": 28,
   "metadata": {},
   "outputs": [
    {
     "name": "stdout",
     "output_type": "stream",
     "text": [
      "Enter radius of circle: 2\n",
      "6.28\n"
     ]
    }
   ],
   "source": [
    "radius=float(input(\"Enter radius of circle: \"))\n",
    "areaCircle=3.14*radius\n",
    "print(areaCircle)"
   ]
  },
  {
   "cell_type": "markdown",
   "metadata": {},
   "source": [
    "**Exercise 2.** Ask to user for amount he want to withdraw and then calculate the number of 2000, 500, 100, 50, 20 and 10 rupees notes required to fulfill the requirement."
   ]
  },
  {
   "cell_type": "code",
   "execution_count": 2,
   "metadata": {},
   "outputs": [
    {
     "name": "stdout",
     "output_type": "stream",
     "text": [
      "Enter amount to be withdrawn divisible by 10133\n",
      "Number of 2000 notes0\n",
      "Number of 500 notes0\n",
      "Number of 100 notes1\n",
      "Number of 50 notes0\n",
      "Number of 20 notes1\n",
      "Number of 10 notes1\n",
      "Change not available for remaining balance: 3.0\n"
     ]
    }
   ],
   "source": [
    "withdrawl_amount=float(input(\"Enter amount to be withdrawn divisible by 10: \"))\n",
    "count_2000=0\n",
    "count_500=0\n",
    "count_100=0\n",
    "count_50=0\n",
    "count_20=0\n",
    "count_10=0\n",
    "rem_balance=withdrawl_amount\n",
    "try:\n",
    "    while(rem_balance>0):\n",
    "        if(rem_balance>=2000):\n",
    "            rem_balance-=2000# rem_balance=rem_balance-2000\n",
    "            count_2000+=1\n",
    "        elif(rem_balance>=500):\n",
    "            rem_balance-=500\n",
    "            count_500+=1\n",
    "        elif(rem_balance>=100):\n",
    "            rem_balance-=100\n",
    "            count_100+=1\n",
    "        elif(rem_balance>=50):\n",
    "            rem_balance-=50\n",
    "            count_50+=1\n",
    "        elif(rem_balance>=20):\n",
    "            rem_balance-=20\n",
    "            count_20+=1\n",
    "        elif(rem_balance>=10):\n",
    "            rem_balance-=10\n",
    "            count_10+=1\n",
    "        else:\n",
    "            break\n",
    "\n",
    "    print(\"Number of 2000 notes : \"+ str(count_2000))\n",
    "    print(\"Number of 500 notes : + str(count_500))\n",
    "    print(\"Number of 100 notes : \"+ str(count_100))\n",
    "    print(\"Number of 50 notes : \"+ str(count_50))\n",
    "    print(\"Number of 20 notes : \"+ str(count_20))\n",
    "    print(\"Number of 10 notes : \"+ str(count_10))\n",
    "    print(\"Change not available for remaining balance: \"+str(rem_balance))\n",
    "except:\n",
    "    print(\"Change not available\")"
   ]
  },
  {
   "cell_type": "markdown",
   "metadata": {},
   "source": [
    "**Exercise 3.** Create following list:\n",
    "\n",
    "data = [2,34,23,16,56,45,34,26,78,56,1,16]\n",
    "\n",
    "Now delete the duplicate values and print the list in ascending order. "
   ]
  },
  {
   "cell_type": "code",
   "execution_count": 8,
   "metadata": {},
   "outputs": [
    {
     "name": "stdout",
     "output_type": "stream",
     "text": [
      "[1, 2, 16, 23, 26, 34, 45, 56, 78]\n"
     ]
    }
   ],
   "source": [
    "def unique(list1):\n",
    "    unique_list = [] \n",
    "    for x in list1: \n",
    "        if x not in unique_list: \n",
    "            unique_list.append(x) \n",
    "    return unique_list\n",
    "\n",
    "data = [2,34,23,16,56,45,34,26,78,56,1,16]\n",
    "data=unique(data)\n",
    "data.sort()\n",
    "print(data)"
   ]
  },
  {
   "cell_type": "markdown",
   "metadata": {},
   "source": [
    "**Exercise 4.** Combine following dictionaries to create a new one.\n",
    "\n",
    "\n",
    "dic1={'name1':'IIITDM', 'place1':'jabalpur'}\n",
    "dic2={'name2':'MNIT', 'place2':'jaipur'}\n",
    "dic3={'name3':'NIT', 'place3':'warangal'}\n",
    "dic4={'name4':'IIT', 'place4':'patna'}\n"
   ]
  },
  {
   "cell_type": "code",
   "execution_count": 10,
   "metadata": {},
   "outputs": [
    {
     "name": "stdout",
     "output_type": "stream",
     "text": [
      "{'name1': 'IIITDM', 'place1': 'jabalpur', 'name2': 'MNIT', 'place2': 'jaipur', 'name3': 'NIT', 'place3': 'warangal', 'name4': 'IIT', 'place4': 'patna'}\n"
     ]
    }
   ],
   "source": [
    "dic1={'name1':'IIITDM', 'place1':'jabalpur'}\n",
    "dic2={'name2':'MNIT', 'place2':'jaipur'}\n",
    "dic3={'name3':'NIT', 'place3':'warangal'}\n",
    "dic4={'name4':'IIT', 'place4':'patna'}\n",
    "dic1.update(dic2)\n",
    "dic1.update(dic3)\n",
    "dic1.update(dic4)\n",
    "print(dic1)"
   ]
  },
  {
   "cell_type": "markdown",
   "metadata": {},
   "source": [
    "**Exercise 5.** Write a Python program to convert temperatures to and from celsius, fahrenheit"
   ]
  },
  {
   "cell_type": "code",
   "execution_count": 4,
   "metadata": {},
   "outputs": [
    {
     "name": "stdout",
     "output_type": "stream",
     "text": [
      "Enter C or F to enter temperature in celsuis or fahrenheit respectively : F\n",
      "Enter temperature in fahrenheit : -40\n",
      "Temperature in celsius : -40.0\n"
     ]
    }
   ],
   "source": [
    "def C2F(tempC):\n",
    "    tempF=tempC*9/5+32\n",
    "    return tempF\n",
    "\n",
    "def F2C(tempF):\n",
    "    tempC=(tempF-32)*5/9\n",
    "    return tempC\n",
    "\n",
    "choice=input(\"Enter C or F to enter temperature in celsuis or fahrenheit respectively : \")\n",
    "if(choice=='C'):\n",
    "    temp=float(input(\"Enter temperature in celsius : \"))\n",
    "    print(\"Temperature in fahrenheit : \"+str(C2F(temp)))\n",
    "elif(choice=='F'):\n",
    "    temp=float(input(\"Enter temperature in fahrenheit : \"))\n",
    "    print(\"Temperature in celsius : \"+str(F2C(temp)))"
   ]
  },
  {
   "cell_type": "markdown",
   "metadata": {},
   "source": [
    "**Exercise 6.** Write a Python program to print pattern for your name's first alphabet"
   ]
  },
  {
   "cell_type": "code",
   "execution_count": null,
   "metadata": {},
   "outputs": [],
   "source": []
  },
  {
   "cell_type": "markdown",
   "metadata": {},
   "source": [
    "**Exercise 7.** From the following list create two seperate list of even and odd numbers in sorted order\n",
    "data=[12,13,45,6,7,32,8,9,57,31,92,44]\n"
   ]
  },
  {
   "cell_type": "code",
   "execution_count": 6,
   "metadata": {},
   "outputs": [
    {
     "name": "stdout",
     "output_type": "stream",
     "text": [
      "[6, 8, 12, 32, 44, 92]\n",
      "[7, 9, 13, 31, 45, 57]\n"
     ]
    }
   ],
   "source": [
    "data=[12,13,45,6,7,32,8,9,57,31,92,44]\n",
    "odd_list=[]\n",
    "even_list=[]\n",
    "\n",
    "for item in data:\n",
    "    if(item%2==0):\n",
    "        even_list.append(item)\n",
    "    else:\n",
    "        odd_list.append(item)\n",
    "\n",
    "even_list.sort()\n",
    "odd_list.sort()\n",
    "\n",
    "print(even_list)\n",
    "print(odd_list)"
   ]
  },
  {
   "cell_type": "markdown",
   "metadata": {},
   "source": [
    "**Exercise 8.** Compute the mean, standard deviation, and variance of a random numpy array. \n"
   ]
  },
  {
   "cell_type": "code",
   "execution_count": 15,
   "metadata": {},
   "outputs": [
    {
     "name": "stdout",
     "output_type": "stream",
     "text": [
      "Mean of the array is 0.546739468988136\n",
      "Standard deviation of the array is 0.21905102153957212\n",
      "Variance of the array is 0.04798335003753009\n"
     ]
    }
   ],
   "source": [
    "import numpy as np\n",
    "randArray=np.random.rand(1,10)\n",
    "meanArray=np.mean(randArray)\n",
    "stdArray=np.std(randArray)\n",
    "varArray=stdArray*stdArray\n",
    "print(\"Mean of the array is \"+str(meanArray))\n",
    "print(\"Standard deviation of the array is \"+str(stdArray))\n",
    "print(\"Variance of the array is \"+str(varArray))"
   ]
  },
  {
   "cell_type": "markdown",
   "metadata": {},
   "source": [
    "**Exercise 9.** In the following dataframe replace all the NaN values with Zero's and then plot the data\n",
    "\n",
    "|month | sell |\n",
    "|------|------|\n",
    "|jan   |  65211|\n",
    "|feb   |  29424|\n",
    "|march |  29877|\n",
    "|april |  30990|\n",
    "|may   |  61303|\n",
    "|june  |  71781|\n",
    "|july  |  NaN|\n",
    "|aug   |  11072|\n",
    "|sep   |  113702|\n",
    "|oct   |  64731|\n",
    "|nov   |  NaN|\n",
    "|dec   |  NaN|"
   ]
  },
  {
   "cell_type": "code",
   "execution_count": 6,
   "metadata": {},
   "outputs": [
    {
     "name": "stdout",
     "output_type": "stream",
     "text": [
      "    month      sell\n",
      "0     jan   65211.0\n",
      "1     feb   29424.0\n",
      "2   march   29877.0\n",
      "3   april   30990.0\n",
      "4     may   61303.0\n",
      "5    june   71781.0\n",
      "6    july       0.0\n",
      "7     aug   11072.0\n",
      "8     sep  113702.0\n",
      "9     oct   64731.0\n",
      "10    nov       0.0\n",
      "11    dec       0.0\n"
     ]
    }
   ],
   "source": [
    "import numpy as np\n",
    "import pandas as pd\n",
    "\n",
    "data=[\n",
    "[\"jan\"   ,  65211],\n",
    "[\"feb\"   ,  29424],\n",
    "[\"march\" ,  29877],\n",
    "[\"april\" ,  30990],\n",
    "[\"may\"   ,  61303],\n",
    "[\"june\"  ,  71781],\n",
    "[\"july\"  ,  np.nan],\n",
    "[\"aug\"   ,  11072],\n",
    "[\"sep\"   ,  113702],\n",
    "[\"oct\"   ,  64731],\n",
    "[\"nov\"   ,  np.nan],\n",
    "[\"dec\"   ,  np.nan]]\n",
    "\n",
    "f = pd.DataFrame(data, columns = ['month', 'sell']) \n",
    "f.fillna(0,inputplace=True)\n",
    "print(f)"
   ]
  },
  {
   "cell_type": "markdown",
   "metadata": {},
   "source": [
    "**Reference: https://www.python.org/**"
   ]
  },
  {
   "cell_type": "markdown",
   "metadata": {},
   "source": [
    "Tutorial by E&ICT Academy, IIITDM Jabalpur ( Poornima Singh Thakur, Nishant Khare, Samir Jain and Aparajita Ojha)"
   ]
  }
 ],
 "metadata": {
  "kernelspec": {
   "display_name": "Python 3",
   "language": "python",
   "name": "python3"
  },
  "language_info": {
   "codemirror_mode": {
    "name": "ipython",
    "version": 3
   },
   "file_extension": ".py",
   "mimetype": "text/x-python",
   "name": "python",
   "nbconvert_exporter": "python",
   "pygments_lexer": "ipython3",
   "version": "3.7.5"
  }
 },
 "nbformat": 4,
 "nbformat_minor": 2
}
