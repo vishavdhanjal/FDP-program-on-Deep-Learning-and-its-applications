{
 "cells": [
  {
   "cell_type": "markdown",
   "metadata": {},
   "source": [
    "# Joint Winter NKN Faculty Development Program 2019-20 (9-13 Dec 2019)"
   ]
  },
  {
   "cell_type": "markdown",
   "metadata": {},
   "source": [
    "## Deep Learning & Applications "
   ]
  },
  {
   "cell_type": "markdown",
   "metadata": {},
   "source": [
    "**Principal Coordinator - IIITDM Jabalpur : Co-Principal Coordinator - NIT Warangal**\n",
    "\n",
    "**Particiapting Academies -** IIITDM Jabalpur, MNIT Jaipur, NIT Patna, NIT Warangal"
   ]
  },
  {
   "cell_type": "markdown",
   "metadata": {},
   "source": [
    "# Tutorial 3: Introduction to Keras\n"
   ]
  },
  {
   "cell_type": "markdown",
   "metadata": {},
   "source": [
    "Keras is a high-level neural networks API, written in Python and capable of running on top of TensorFlow, CNTK, or Theano. \n",
    "\n",
    "Here we are going to use Keras on the top of TensorFlow."
   ]
  },
  {
   "cell_type": "markdown",
   "metadata": {},
   "source": [
    "**1. Keras Model creation-** The core data structure of Keras is a model, a way to organize layers. The simplest type of model is the Sequential model, a linear stack of layers. "
   ]
  },
  {
   "cell_type": "markdown",
   "metadata": {},
   "source": [
    "from keras.models import Sequential\n",
    "\n",
    "model = Sequential()"
   ]
  },
  {
   "cell_type": "markdown",
   "metadata": {},
   "source": [
    "**2. Adding layers to model** - Stacking layers is as easy as .add():\n"
   ]
  },
  {
   "cell_type": "markdown",
   "metadata": {},
   "source": [
    "from keras.layers import Dense\n",
    "\n",
    "model.add(Dense(units=64, activation='relu', input_dim=100))\n",
    "model.add(Dense(units=10, activation='softmax'))"
   ]
  },
  {
   "cell_type": "markdown",
   "metadata": {},
   "source": [
    "**3. Model Compilation -**configure model learning process with .compile()"
   ]
  },
  {
   "cell_type": "markdown",
   "metadata": {},
   "source": [
    "model.compile(loss='categorical_crossentropy',\n",
    "              optimizer='sgd',\n",
    "              metrics=['accuracy'])"
   ]
  },
  {
   "cell_type": "markdown",
   "metadata": {},
   "source": [
    "**4. Model Training -** To iterate on training data in batches."
   ]
  },
  {
   "cell_type": "markdown",
   "metadata": {},
   "source": [
    "model.fit(x_train, y_train, epochs=5, batch_size=32)"
   ]
  },
  {
   "cell_type": "markdown",
   "metadata": {},
   "source": [
    "**5. Evaluate model performance -**"
   ]
  },
  {
   "cell_type": "markdown",
   "metadata": {},
   "source": [
    "model.evaluate(x_test, y_test, batch_size=128)"
   ]
  },
  {
   "cell_type": "markdown",
   "metadata": {},
   "source": [
    "**6. Predict output on new data -**"
   ]
  },
  {
   "cell_type": "markdown",
   "metadata": {},
   "source": [
    "classes = model.predict(x_test, batch_size=128)"
   ]
  },
  {
   "cell_type": "markdown",
   "metadata": {},
   "source": [
    "# Practice Problem -"
   ]
  },
  {
   "cell_type": "markdown",
   "metadata": {},
   "source": [
    "**We are going to use House value prediction dataset https://www.kaggle.com/c/zillow-prize-1/data and our objective is to determine whether the house price is above or below the median**"
   ]
  },
  {
   "cell_type": "markdown",
   "metadata": {},
   "source": [
    "### A.  Preprocessing"
   ]
  },
  {
   "cell_type": "markdown",
   "metadata": {},
   "source": [
    "**A.1 - Reading the data file** "
   ]
  },
  {
   "cell_type": "code",
   "execution_count": 14,
   "metadata": {
    "scrolled": true
   },
   "outputs": [
    {
     "data": {
      "text/html": [
       "<div>\n",
       "<style scoped>\n",
       "    .dataframe tbody tr th:only-of-type {\n",
       "        vertical-align: middle;\n",
       "    }\n",
       "\n",
       "    .dataframe tbody tr th {\n",
       "        vertical-align: top;\n",
       "    }\n",
       "\n",
       "    .dataframe thead th {\n",
       "        text-align: right;\n",
       "    }\n",
       "</style>\n",
       "<table border=\"1\" class=\"dataframe\">\n",
       "  <thead>\n",
       "    <tr style=\"text-align: right;\">\n",
       "      <th></th>\n",
       "      <th>LotArea</th>\n",
       "      <th>OverallQual</th>\n",
       "      <th>OverallCond</th>\n",
       "      <th>TotalBsmtSF</th>\n",
       "      <th>FullBath</th>\n",
       "      <th>HalfBath</th>\n",
       "      <th>BedroomAbvGr</th>\n",
       "      <th>TotRmsAbvGrd</th>\n",
       "      <th>Fireplaces</th>\n",
       "      <th>GarageArea</th>\n",
       "      <th>AboveMedianPrice</th>\n",
       "    </tr>\n",
       "  </thead>\n",
       "  <tbody>\n",
       "    <tr>\n",
       "      <th>0</th>\n",
       "      <td>8450</td>\n",
       "      <td>7</td>\n",
       "      <td>5</td>\n",
       "      <td>856</td>\n",
       "      <td>2</td>\n",
       "      <td>1</td>\n",
       "      <td>3</td>\n",
       "      <td>8</td>\n",
       "      <td>0</td>\n",
       "      <td>548</td>\n",
       "      <td>1</td>\n",
       "    </tr>\n",
       "    <tr>\n",
       "      <th>1</th>\n",
       "      <td>9600</td>\n",
       "      <td>6</td>\n",
       "      <td>8</td>\n",
       "      <td>1262</td>\n",
       "      <td>2</td>\n",
       "      <td>0</td>\n",
       "      <td>3</td>\n",
       "      <td>6</td>\n",
       "      <td>1</td>\n",
       "      <td>460</td>\n",
       "      <td>1</td>\n",
       "    </tr>\n",
       "    <tr>\n",
       "      <th>2</th>\n",
       "      <td>11250</td>\n",
       "      <td>7</td>\n",
       "      <td>5</td>\n",
       "      <td>920</td>\n",
       "      <td>2</td>\n",
       "      <td>1</td>\n",
       "      <td>3</td>\n",
       "      <td>6</td>\n",
       "      <td>1</td>\n",
       "      <td>608</td>\n",
       "      <td>1</td>\n",
       "    </tr>\n",
       "    <tr>\n",
       "      <th>3</th>\n",
       "      <td>9550</td>\n",
       "      <td>7</td>\n",
       "      <td>5</td>\n",
       "      <td>756</td>\n",
       "      <td>1</td>\n",
       "      <td>0</td>\n",
       "      <td>3</td>\n",
       "      <td>7</td>\n",
       "      <td>1</td>\n",
       "      <td>642</td>\n",
       "      <td>0</td>\n",
       "    </tr>\n",
       "    <tr>\n",
       "      <th>4</th>\n",
       "      <td>14260</td>\n",
       "      <td>8</td>\n",
       "      <td>5</td>\n",
       "      <td>1145</td>\n",
       "      <td>2</td>\n",
       "      <td>1</td>\n",
       "      <td>4</td>\n",
       "      <td>9</td>\n",
       "      <td>1</td>\n",
       "      <td>836</td>\n",
       "      <td>1</td>\n",
       "    </tr>\n",
       "  </tbody>\n",
       "</table>\n",
       "</div>"
      ],
      "text/plain": [
       "   LotArea  OverallQual  OverallCond  TotalBsmtSF  FullBath  HalfBath  \\\n",
       "0     8450            7            5          856         2         1   \n",
       "1     9600            6            8         1262         2         0   \n",
       "2    11250            7            5          920         2         1   \n",
       "3     9550            7            5          756         1         0   \n",
       "4    14260            8            5         1145         2         1   \n",
       "\n",
       "   BedroomAbvGr  TotRmsAbvGrd  Fireplaces  GarageArea  AboveMedianPrice  \n",
       "0             3             8           0         548                 1  \n",
       "1             3             6           1         460                 1  \n",
       "2             3             6           1         608                 1  \n",
       "3             3             7           1         642                 0  \n",
       "4             4             9           1         836                 1  "
      ]
     },
     "execution_count": 14,
     "metadata": {},
     "output_type": "execute_result"
    }
   ],
   "source": [
    "import pandas as pd\n",
    "df = pd.read_csv('housepricedata.csv')\n",
    "df.head()"
   ]
  },
  {
   "cell_type": "code",
   "execution_count": null,
   "metadata": {},
   "outputs": [],
   "source": []
  },
  {
   "cell_type": "code",
   "execution_count": 15,
   "metadata": {
    "scrolled": false
   },
   "outputs": [
    {
     "data": {
      "text/plain": [
       "Index(['LotArea', 'OverallQual', 'OverallCond', 'TotalBsmtSF', 'FullBath',\n",
       "       'HalfBath', 'BedroomAbvGr', 'TotRmsAbvGrd', 'Fireplaces', 'GarageArea',\n",
       "       'AboveMedianPrice'],\n",
       "      dtype='object')"
      ]
     },
     "execution_count": 15,
     "metadata": {},
     "output_type": "execute_result"
    }
   ],
   "source": [
    "df.columns"
   ]
  },
  {
   "cell_type": "markdown",
   "metadata": {},
   "source": [
    "**A2. - Fetching only the values from data**"
   ]
  },
  {
   "cell_type": "code",
   "execution_count": 16,
   "metadata": {},
   "outputs": [],
   "source": [
    "dataset = df.values"
   ]
  },
  {
   "cell_type": "code",
   "execution_count": 17,
   "metadata": {
    "scrolled": true
   },
   "outputs": [
    {
     "data": {
      "text/plain": [
       "array([[ 8450,     7,     5, ...,     0,   548,     1],\n",
       "       [ 9600,     6,     8, ...,     1,   460,     1],\n",
       "       [11250,     7,     5, ...,     1,   608,     1],\n",
       "       ...,\n",
       "       [ 9042,     7,     9, ...,     2,   252,     1],\n",
       "       [ 9717,     5,     6, ...,     0,   240,     0],\n",
       "       [ 9937,     5,     6, ...,     0,   276,     0]], dtype=int64)"
      ]
     },
     "execution_count": 17,
     "metadata": {},
     "output_type": "execute_result"
    }
   ],
   "source": [
    "dataset"
   ]
  },
  {
   "cell_type": "markdown",
   "metadata": {},
   "source": [
    "**A3. - Seperating the input vector and target output**"
   ]
  },
  {
   "cell_type": "code",
   "execution_count": 18,
   "metadata": {},
   "outputs": [],
   "source": [
    "X = dataset[:,0:10]\n",
    "Y = dataset[:,10]"
   ]
  },
  {
   "cell_type": "markdown",
   "metadata": {},
   "source": [
    "**A4. - Data normalization**"
   ]
  },
  {
   "cell_type": "code",
   "execution_count": 19,
   "metadata": {
    "scrolled": true
   },
   "outputs": [
    {
     "data": {
      "text/plain": [
       "array([[0.0334198 , 0.66666667, 0.5       , ..., 0.5       , 0.        ,\n",
       "        0.3864598 ],\n",
       "       [0.03879502, 0.55555556, 0.875     , ..., 0.33333333, 0.33333333,\n",
       "        0.32440056],\n",
       "       [0.04650728, 0.66666667, 0.5       , ..., 0.33333333, 0.33333333,\n",
       "        0.42877292],\n",
       "       ...,\n",
       "       [0.03618687, 0.66666667, 1.        , ..., 0.58333333, 0.66666667,\n",
       "        0.17771509],\n",
       "       [0.03934189, 0.44444444, 0.625     , ..., 0.25      , 0.        ,\n",
       "        0.16925247],\n",
       "       [0.04037019, 0.44444444, 0.625     , ..., 0.33333333, 0.        ,\n",
       "        0.19464034]])"
      ]
     },
     "execution_count": 19,
     "metadata": {},
     "output_type": "execute_result"
    }
   ],
   "source": [
    "from sklearn import preprocessing\n",
    "min_max_scaler = preprocessing.MinMaxScaler()\n",
    "X_scale = min_max_scaler.fit_transform(X)\n",
    "X_scale"
   ]
  },
  {
   "cell_type": "markdown",
   "metadata": {},
   "source": [
    "**A4. - Splitting the data into training, validation and testing**"
   ]
  },
  {
   "cell_type": "code",
   "execution_count": 20,
   "metadata": {},
   "outputs": [],
   "source": [
    "from sklearn.model_selection import train_test_split\n",
    "X_train, X_val_and_test, Y_train, Y_val_and_test = train_test_split(X_scale, Y, test_size=0.2)"
   ]
  },
  {
   "cell_type": "code",
   "execution_count": 21,
   "metadata": {},
   "outputs": [],
   "source": [
    "X_val, X_test, Y_val, Y_test = train_test_split(X_val_and_test, Y_val_and_test, test_size=0.5)"
   ]
  },
  {
   "cell_type": "code",
   "execution_count": 22,
   "metadata": {},
   "outputs": [
    {
     "name": "stdout",
     "output_type": "stream",
     "text": [
      "(1168, 10) (146, 10) (146, 10) (1168,) (146,) (146,)\n"
     ]
    }
   ],
   "source": [
    "print(X_train.shape, X_val.shape, X_test.shape, Y_train.shape, Y_val.shape, Y_test.shape)"
   ]
  },
  {
   "cell_type": "markdown",
   "metadata": {},
   "source": [
    "### B. Model Building"
   ]
  },
  {
   "cell_type": "markdown",
   "metadata": {},
   "source": [
    "**B1. Import the required library**"
   ]
  },
  {
   "cell_type": "code",
   "execution_count": 23,
   "metadata": {},
   "outputs": [],
   "source": [
    "from keras.models import Sequential\n",
    "from keras.layers import Dense"
   ]
  },
  {
   "cell_type": "markdown",
   "metadata": {},
   "source": [
    "**B2. Create model and adding layers**"
   ]
  },
  {
   "cell_type": "code",
   "execution_count": 24,
   "metadata": {},
   "outputs": [
    {
     "name": "stdout",
     "output_type": "stream",
     "text": [
      "_________________________________________________________________\n",
      "Layer (type)                 Output Shape              Param #   \n",
      "=================================================================\n",
      "dense_4 (Dense)              (None, 16)                176       \n",
      "_________________________________________________________________\n",
      "dense_5 (Dense)              (None, 8)                 136       \n",
      "_________________________________________________________________\n",
      "dense_6 (Dense)              (None, 1)                 9         \n",
      "=================================================================\n",
      "Total params: 321\n",
      "Trainable params: 321\n",
      "Non-trainable params: 0\n",
      "_________________________________________________________________\n"
     ]
    }
   ],
   "source": [
    "model = Sequential()\n",
    "model.add(Dense(16, activation='relu', input_shape=(10,)))\n",
    "model.add(Dense(8, activation='relu'))\n",
    "model.add(Dense(1, activation='sigmoid'))\n",
    "model.summary()"
   ]
  },
  {
   "cell_type": "markdown",
   "metadata": {},
   "source": [
    "**B3. Model Compilation**"
   ]
  },
  {
   "cell_type": "code",
   "execution_count": 25,
   "metadata": {},
   "outputs": [],
   "source": [
    "model.compile(optimizer='sgd',\n",
    "              loss='binary_crossentropy',\n",
    "              metrics=['accuracy'])"
   ]
  },
  {
   "cell_type": "markdown",
   "metadata": {},
   "source": [
    "### C. Training and Testing"
   ]
  },
  {
   "cell_type": "markdown",
   "metadata": {},
   "source": [
    "**C1. Training the model**"
   ]
  },
  {
   "cell_type": "code",
   "execution_count": 26,
   "metadata": {
    "scrolled": true
   },
   "outputs": [
    {
     "name": "stdout",
     "output_type": "stream",
     "text": [
      "Train on 1168 samples, validate on 146 samples\n",
      "Epoch 1/30\n",
      "1168/1168 [==============================] - 1s 729us/step - loss: 0.6623 - acc: 0.5060 - val_loss: 0.6678 - val_acc: 0.4795\n",
      "Epoch 2/30\n",
      "1168/1168 [==============================] - 0s 224us/step - loss: 0.6562 - acc: 0.5068 - val_loss: 0.6619 - val_acc: 0.4795\n",
      "Epoch 3/30\n",
      "1168/1168 [==============================] - 0s 240us/step - loss: 0.6503 - acc: 0.5077 - val_loss: 0.6564 - val_acc: 0.5068\n",
      "Epoch 4/30\n",
      "1168/1168 [==============================] - 0s 241us/step - loss: 0.6446 - acc: 0.5394 - val_loss: 0.6511 - val_acc: 0.5685\n",
      "Epoch 5/30\n",
      "1168/1168 [==============================] - 0s 213us/step - loss: 0.6387 - acc: 0.5805 - val_loss: 0.6457 - val_acc: 0.6301\n",
      "Epoch 6/30\n",
      "1168/1168 [==============================] - 0s 192us/step - loss: 0.6329 - acc: 0.6276 - val_loss: 0.6403 - val_acc: 0.6712\n",
      "Epoch 7/30\n",
      "1168/1168 [==============================] - 0s 199us/step - loss: 0.6268 - acc: 0.6747 - val_loss: 0.6351 - val_acc: 0.6849\n",
      "Epoch 8/30\n",
      "1168/1168 [==============================] - 0s 235us/step - loss: 0.6206 - acc: 0.6789 - val_loss: 0.6292 - val_acc: 0.7123\n",
      "Epoch 9/30\n",
      "1168/1168 [==============================] - 0s 203us/step - loss: 0.6140 - acc: 0.7115 - val_loss: 0.6234 - val_acc: 0.7534\n",
      "Epoch 10/30\n",
      "1168/1168 [==============================] - 0s 190us/step - loss: 0.6073 - acc: 0.7303 - val_loss: 0.6175 - val_acc: 0.7740\n",
      "Epoch 11/30\n",
      "1168/1168 [==============================] - 0s 212us/step - loss: 0.6004 - acc: 0.7594 - val_loss: 0.6116 - val_acc: 0.7877\n",
      "Epoch 12/30\n",
      "1168/1168 [==============================] - 0s 204us/step - loss: 0.5933 - acc: 0.7586 - val_loss: 0.6052 - val_acc: 0.8082\n",
      "Epoch 13/30\n",
      "1168/1168 [==============================] - 0s 202us/step - loss: 0.5861 - acc: 0.7748 - val_loss: 0.5989 - val_acc: 0.8014\n",
      "Epoch 14/30\n",
      "1168/1168 [==============================] - 0s 187us/step - loss: 0.5787 - acc: 0.7825 - val_loss: 0.5927 - val_acc: 0.8082\n",
      "Epoch 15/30\n",
      "1168/1168 [==============================] - 0s 197us/step - loss: 0.5710 - acc: 0.7877 - val_loss: 0.5864 - val_acc: 0.8151\n",
      "Epoch 16/30\n",
      "1168/1168 [==============================] - 0s 186us/step - loss: 0.5635 - acc: 0.8031 - val_loss: 0.5800 - val_acc: 0.8151\n",
      "Epoch 17/30\n",
      "1168/1168 [==============================] - 0s 188us/step - loss: 0.5555 - acc: 0.8039 - val_loss: 0.5735 - val_acc: 0.8151\n",
      "Epoch 18/30\n",
      "1168/1168 [==============================] - 0s 166us/step - loss: 0.5476 - acc: 0.8159 - val_loss: 0.5674 - val_acc: 0.8219\n",
      "Epoch 19/30\n",
      "1168/1168 [==============================] - 0s 190us/step - loss: 0.5398 - acc: 0.8185 - val_loss: 0.5611 - val_acc: 0.8151\n",
      "Epoch 20/30\n",
      "1168/1168 [==============================] - 0s 183us/step - loss: 0.5318 - acc: 0.8168 - val_loss: 0.5548 - val_acc: 0.8082\n",
      "Epoch 21/30\n",
      "1168/1168 [==============================] - 0s 167us/step - loss: 0.5239 - acc: 0.8253 - val_loss: 0.5486 - val_acc: 0.8151\n",
      "Epoch 22/30\n",
      "1168/1168 [==============================] - 0s 191us/step - loss: 0.5163 - acc: 0.8305 - val_loss: 0.5426 - val_acc: 0.8082\n",
      "Epoch 23/30\n",
      "1168/1168 [==============================] - 0s 210us/step - loss: 0.5086 - acc: 0.8356 - val_loss: 0.5369 - val_acc: 0.8082\n",
      "Epoch 24/30\n",
      "1168/1168 [==============================] - 0s 176us/step - loss: 0.5007 - acc: 0.8433 - val_loss: 0.5315 - val_acc: 0.8082\n",
      "Epoch 25/30\n",
      "1168/1168 [==============================] - 0s 214us/step - loss: 0.4935 - acc: 0.8416 - val_loss: 0.5257 - val_acc: 0.8014\n",
      "Epoch 26/30\n",
      "1168/1168 [==============================] - 0s 224us/step - loss: 0.4862 - acc: 0.8442 - val_loss: 0.5204 - val_acc: 0.8014\n",
      "Epoch 27/30\n",
      "1168/1168 [==============================] - 0s 204us/step - loss: 0.4791 - acc: 0.8519 - val_loss: 0.5151 - val_acc: 0.8082\n",
      "Epoch 28/30\n",
      "1168/1168 [==============================] - 0s 222us/step - loss: 0.4721 - acc: 0.8510 - val_loss: 0.5102 - val_acc: 0.8082\n",
      "Epoch 29/30\n",
      "1168/1168 [==============================] - 0s 202us/step - loss: 0.4654 - acc: 0.8587 - val_loss: 0.5063 - val_acc: 0.8082\n",
      "Epoch 30/30\n",
      "1168/1168 [==============================] - 0s 214us/step - loss: 0.4588 - acc: 0.8553 - val_loss: 0.5012 - val_acc: 0.8082\n"
     ]
    }
   ],
   "source": [
    "hist = model.fit(X_train, Y_train,\n",
    "          batch_size=32, epochs=30,\n",
    "          validation_data=(X_val, Y_val))"
   ]
  },
  {
   "cell_type": "code",
   "execution_count": 27,
   "metadata": {
    "scrolled": false
   },
   "outputs": [
    {
     "name": "stdout",
     "output_type": "stream",
     "text": [
      "146/146 [==============================] - 0s 125us/step\n",
      "Testing Accuracy :82.87671257371771\n",
      "Testing Loss :0.4699778034262461\n"
     ]
    }
   ],
   "source": [
    "test_evaluate =model.evaluate(X_test, Y_test)\n",
    "print(\"Testing Accuracy :\"+ str(test_evaluate[1]*100))\n",
    "print(\"Testing Loss :\"+ str(test_evaluate[0]))"
   ]
  },
  {
   "cell_type": "markdown",
   "metadata": {},
   "source": [
    "**C3. Saving the Model**"
   ]
  },
  {
   "cell_type": "code",
   "execution_count": 28,
   "metadata": {},
   "outputs": [],
   "source": [
    "from keras.models import load_model\n",
    "model.save('my_model.h5')\n",
    "model.save_weights('my_model_weights.h5')"
   ]
  },
  {
   "cell_type": "markdown",
   "metadata": {},
   "source": [
    "### D. Plotting the batchwise training and validation"
   ]
  },
  {
   "cell_type": "markdown",
   "metadata": {},
   "source": [
    "**D1. Loss Plot**"
   ]
  },
  {
   "cell_type": "code",
   "execution_count": 30,
   "metadata": {
    "scrolled": true
   },
   "outputs": [
    {
     "data": {
      "image/png": "[encoded data removed]",
      "text/plain": [
       "<Figure size 432x288 with 1 Axes>"
      ]
     },
     "metadata": {
      "needs_background": "light"
     },
     "output_type": "display_data"
    }
   ],
   "source": [
    "import matplotlib.pyplot as plt\n",
    "plt.plot(hist.history['loss'])\n",
    "plt.plot(hist.history['val_loss'])\n",
    "plt.title('Model loss')\n",
    "plt.ylabel('Loss')\n",
    "plt.xlabel('Epoch')\n",
    "plt.legend(['Train', 'Val'], loc='upper right')\n",
    "plt.show()"
   ]
  },
  {
   "cell_type": "markdown",
   "metadata": {},
   "source": [
    "**D2. Accuracy Plot** "
   ]
  },
  {
   "cell_type": "code",
   "execution_count": 31,
   "metadata": {
    "scrolled": false
   },
   "outputs": [
    {
     "data": {
      "image/png": "[encoded data removed]",
      "text/plain": [
       "<Figure size 432x288 with 1 Axes>"
      ]
     },
     "metadata": {
      "needs_background": "light"
     },
     "output_type": "display_data"
    }
   ],
   "source": [
    "plt.plot(hist.history['acc'])\n",
    "plt.plot(hist.history['val_acc'])\n",
    "plt.title('Model Accuracy')\n",
    "plt.ylabel('Accuracy')\n",
    "plt.xlabel('Epoch')\n",
    "plt.legend(['Train', 'Val'], loc='upper right')\n",
    "plt.show()"
   ]
  },
  {
   "cell_type": "markdown",
   "metadata": {},
   "source": [
    "# Exercise.1"
   ]
  },
  {
   "cell_type": "markdown",
   "metadata": {},
   "source": [
    "**You have to load the weights of the saved model and then add one more layer Dense layer with 8 neuron then check the performance of the model.**"
   ]
  },
  {
   "cell_type": "code",
   "execution_count": 46,
   "metadata": {},
   "outputs": [
    {
     "name": "stdout",
     "output_type": "stream",
     "text": [
      "_________________________________________________________________\n",
      "Layer (type)                 Output Shape              Param #   \n",
      "=================================================================\n",
      "dense_4_input (InputLayer)   (None, 10)                0         \n",
      "_________________________________________________________________\n",
      "dense_4 (Dense)              (None, 16)                176       \n",
      "_________________________________________________________________\n",
      "dense_5 (Dense)              (None, 8)                 136       \n",
      "_________________________________________________________________\n",
      "dense_17 (Dense)             (None, 8)                 72        \n",
      "_________________________________________________________________\n",
      "dense_6 (Dense)              (None, 1)                 9         \n",
      "=================================================================\n",
      "Total params: 393\n",
      "Trainable params: 393\n",
      "Non-trainable params: 0\n",
      "_________________________________________________________________\n",
      "Train on 1168 samples, validate on 146 samples\n",
      "Epoch 1/30\n",
      "1168/1168 [==============================] - 2s 2ms/step - loss: 0.5414 - acc: 0.8536 - val_loss: 0.5360 - val_acc: 0.8288\n",
      "Epoch 2/30\n",
      "1168/1168 [==============================] - 0s 231us/step - loss: 0.4993 - acc: 0.8647 - val_loss: 0.5172 - val_acc: 0.8082\n",
      "Epoch 3/30\n",
      "1168/1168 [==============================] - 0s 259us/step - loss: 0.4763 - acc: 0.8570 - val_loss: 0.5033 - val_acc: 0.8219\n",
      "Epoch 4/30\n",
      "1168/1168 [==============================] - 0s 189us/step - loss: 0.4583 - acc: 0.8682 - val_loss: 0.4950 - val_acc: 0.8151\n",
      "Epoch 5/30\n",
      "1168/1168 [==============================] - 0s 194us/step - loss: 0.4438 - acc: 0.8664 - val_loss: 0.4870 - val_acc: 0.8219\n",
      "Epoch 6/30\n",
      "1168/1168 [==============================] - 0s 269us/step - loss: 0.4316 - acc: 0.8682 - val_loss: 0.4817 - val_acc: 0.8219\n",
      "Epoch 7/30\n",
      "1168/1168 [==============================] - 0s 216us/step - loss: 0.4208 - acc: 0.8673 - val_loss: 0.4756 - val_acc: 0.8082\n",
      "Epoch 8/30\n",
      "1168/1168 [==============================] - 0s 260us/step - loss: 0.4115 - acc: 0.8716 - val_loss: 0.4731 - val_acc: 0.8151\n",
      "Epoch 9/30\n",
      "1168/1168 [==============================] - 0s 259us/step - loss: 0.4035 - acc: 0.8724 - val_loss: 0.4703 - val_acc: 0.8082\n",
      "Epoch 10/30\n",
      "1168/1168 [==============================] - 0s 235us/step - loss: 0.3961 - acc: 0.8724 - val_loss: 0.4662 - val_acc: 0.8151\n",
      "Epoch 11/30\n",
      "1168/1168 [==============================] - 0s 268us/step - loss: 0.3895 - acc: 0.8750 - val_loss: 0.4652 - val_acc: 0.8082\n",
      "Epoch 12/30\n",
      "1168/1168 [==============================] - 0s 223us/step - loss: 0.3836 - acc: 0.8759 - val_loss: 0.4621 - val_acc: 0.8219\n",
      "Epoch 13/30\n",
      "1168/1168 [==============================] - 0s 224us/step - loss: 0.3775 - acc: 0.8784 - val_loss: 0.4604 - val_acc: 0.8219\n",
      "Epoch 14/30\n",
      "1168/1168 [==============================] - 0s 235us/step - loss: 0.3726 - acc: 0.8836 - val_loss: 0.4594 - val_acc: 0.8219\n",
      "Epoch 15/30\n",
      "1168/1168 [==============================] - 0s 229us/step - loss: 0.3678 - acc: 0.8810 - val_loss: 0.4604 - val_acc: 0.8151\n",
      "Epoch 16/30\n",
      "1168/1168 [==============================] - 0s 323us/step - loss: 0.3634 - acc: 0.8801 - val_loss: 0.4578 - val_acc: 0.8219\n",
      "Epoch 17/30\n",
      "1168/1168 [==============================] - 0s 226us/step - loss: 0.3587 - acc: 0.8810 - val_loss: 0.4553 - val_acc: 0.8356\n",
      "Epoch 18/30\n",
      "1168/1168 [==============================] - 0s 221us/step - loss: 0.3555 - acc: 0.8836 - val_loss: 0.4549 - val_acc: 0.8356\n",
      "Epoch 19/30\n",
      "1168/1168 [==============================] - 0s 222us/step - loss: 0.3509 - acc: 0.8853 - val_loss: 0.4553 - val_acc: 0.8288\n",
      "Epoch 20/30\n",
      "1168/1168 [==============================] - 0s 236us/step - loss: 0.3476 - acc: 0.8827 - val_loss: 0.4557 - val_acc: 0.8219\n",
      "Epoch 21/30\n",
      "1168/1168 [==============================] - 0s 286us/step - loss: 0.3443 - acc: 0.8853 - val_loss: 0.4537 - val_acc: 0.8356\n",
      "Epoch 22/30\n",
      "1168/1168 [==============================] - 0s 277us/step - loss: 0.3410 - acc: 0.8801 - val_loss: 0.4535 - val_acc: 0.8356\n",
      "Epoch 23/30\n",
      "1168/1168 [==============================] - 0s 237us/step - loss: 0.3385 - acc: 0.8827 - val_loss: 0.4529 - val_acc: 0.8356\n",
      "Epoch 24/30\n",
      "1168/1168 [==============================] - 0s 233us/step - loss: 0.3350 - acc: 0.8810 - val_loss: 0.4500 - val_acc: 0.8425\n",
      "Epoch 25/30\n",
      "1168/1168 [==============================] - 0s 237us/step - loss: 0.3336 - acc: 0.8810 - val_loss: 0.4513 - val_acc: 0.8356\n",
      "Epoch 26/30\n",
      "1168/1168 [==============================] - 0s 229us/step - loss: 0.3303 - acc: 0.8861 - val_loss: 0.4530 - val_acc: 0.8356\n",
      "Epoch 27/30\n",
      "1168/1168 [==============================] - 0s 238us/step - loss: 0.3283 - acc: 0.8836 - val_loss: 0.4525 - val_acc: 0.8356\n",
      "Epoch 28/30\n",
      "1168/1168 [==============================] - 0s 261us/step - loss: 0.3265 - acc: 0.8827 - val_loss: 0.4504 - val_acc: 0.8356\n",
      "Epoch 29/30\n",
      "1168/1168 [==============================] - 0s 254us/step - loss: 0.3238 - acc: 0.8801 - val_loss: 0.4507 - val_acc: 0.8356\n",
      "Epoch 30/30\n",
      "1168/1168 [==============================] - 0s 239us/step - loss: 0.3219 - acc: 0.8853 - val_loss: 0.4490 - val_acc: 0.8356\n",
      "146/146 [==============================] - 0s 131us/step\n",
      "Testing Accuracy :88.35616446521183\n",
      "Testing Loss :0.3450528877238705\n"
     ]
    },
    {
     "data": {
      "image/png": "[encoded data removed]",
      "text/plain": [
       "<Figure size 432x288 with 1 Axes>"
      ]
     },
     "metadata": {
      "needs_background": "light"
     },
     "output_type": "display_data"
    },
    {
     "data": {
      "image/png": "[encoded data removed]",
      "text/plain": [
       "<Figure size 432x288 with 1 Axes>"
      ]
     },
     "metadata": {
      "needs_background": "light"
     },
     "output_type": "display_data"
    }
   ],
   "source": [
    "from keras.models import *\n",
    "model=load_model(\"my_model.h5\")\n",
    "second_last_layer=model.layers[-2].output\n",
    "add_layer=Dense(8, activation='relu')(second_last_layer)\n",
    "last_layer=(model.layers[-1])(add_layer)\n",
    "model=Model(model.input,last_layer)\n",
    "model.summary()\n",
    "model.compile(optimizer='sgd',\n",
    "              loss='binary_crossentropy',\n",
    "              metrics=['accuracy'])\n",
    "hist = model.fit(X_train, Y_train,\n",
    "          batch_size=32, epochs=30,\n",
    "          validation_data=(X_val, Y_val))\n",
    "test_evaluate =model.evaluate(X_test, Y_test)\n",
    "print(\"Testing Accuracy :\"+ str(test_evaluate[1]*100))\n",
    "print(\"Testing Loss :\"+ str(test_evaluate[0]))\n",
    "from keras.models import load_model\n",
    "model.save('my_model_2.h5')\n",
    "model.save_weights('my_model_weights_2.h5')\n",
    "\n",
    "import matplotlib.pyplot as plt\n",
    "plt.plot(hist.history['loss'])\n",
    "plt.plot(hist.history['val_loss'])\n",
    "plt.title('Model loss')\n",
    "plt.ylabel('Loss')\n",
    "plt.xlabel('Epoch')\n",
    "plt.legend(['Train', 'Val'], loc='upper right')\n",
    "plt.show()\n",
    "\n",
    "plt.plot(hist.history['acc'])\n",
    "plt.plot(hist.history['val_acc'])\n",
    "plt.title('Model Accuracy')\n",
    "plt.ylabel('Accuracy')\n",
    "plt.xlabel('Epoch')\n",
    "plt.legend(['Train', 'Val'], loc='upper right')\n",
    "plt.show()"
   ]
  },
  {
   "cell_type": "markdown",
   "metadata": {},
   "source": [
    "**Reference:** - https://keras.io/"
   ]
  }
 ],
 "metadata": {
  "kernelspec": {
   "display_name": "Python 3",
   "language": "python",
   "name": "python3"
  },
  "language_info": {
   "codemirror_mode": {
    "name": "ipython",
    "version": 3
   },
   "file_extension": ".py",
   "mimetype": "text/x-python",
   "name": "python",
   "nbconvert_exporter": "python",
   "pygments_lexer": "ipython3",
   "version": "3.7.5"
  }
 },
 "nbformat": 4,
 "nbformat_minor": 2
}
