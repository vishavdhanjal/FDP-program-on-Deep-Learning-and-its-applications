{
 "cells": [
  {
   "cell_type": "markdown",
   "metadata": {
    "colab_type": "text",
    "id": "_8ngN09Jg8mh"
   },
   "source": [
    "# Joint Winter NKN Faculty Development Program 2019-20 (9-13 Dec 2019)"
   ]
  },
  {
   "cell_type": "markdown",
   "metadata": {
    "colab_type": "text",
    "id": "Qe6BTMUJg8mm"
   },
   "source": [
    "## Deep Learning & Applications "
   ]
  },
  {
   "cell_type": "markdown",
   "metadata": {
    "colab_type": "text",
    "id": "GKSfEeP6g8mo"
   },
   "source": [
    "**Principal Coordinator** - IIITDM Jabalpur **Co-Principal Coordinator** - NIT Warangal\n",
    "\n",
    "**Particiapting Academies -** IIITDM Jabalpur, MNIT Jaipur, NIT Patna, NIT Warangal"
   ]
  },
  {
   "cell_type": "markdown",
   "metadata": {
    "colab_type": "text",
    "id": "LXYAbzC4g8mp"
   },
   "source": [
    "# Tutorial 4: CNN for Character Classification"
   ]
  },
  {
   "cell_type": "markdown",
   "metadata": {
    "colab_type": "text",
    "id": "gzJyquRpg8mr"
   },
   "source": [
    "A Convolutional Neural Network (ConvNet/CNN) is a Deep Learning algorithm which can take in an input image, assign weights and biases to various layers of the network in the image and be able to differentiate one from the other. CNN mainly consists of stack of Convolutional and pooling layers. At the end of the model Fully connected layers are present. "
   ]
  },
  {
   "cell_type": "markdown",
   "metadata": {
    "colab_type": "text",
    "id": "cXvlzYQJg8mt"
   },
   "source": [
    "# Practice Problem - "
   ]
  },
  {
   "cell_type": "markdown",
   "metadata": {
    "colab_type": "text",
    "id": "6rsxj2Ugyhvk"
   },
   "source": [
    "####[ EMNIST ](https://www.nist.gov/itl/products-and-services/emnist-dataset) dataset is a character recognition dataset in which our objective is to train a model which can recognize the category of characters."
   ]
  },
  {
   "cell_type": "markdown",
   "metadata": {
    "colab_type": "text",
    "id": "Z5V980PkzN9d"
   },
   "source": [
    "**1. Mount the Google Drive**"
   ]
  },
  {
   "cell_type": "code",
   "execution_count": 5,
   "metadata": {
    "colab": {
     "base_uri": "https://localhost:8080/",
     "height": 125
    },
    "colab_type": "code",
    "executionInfo": {
     "elapsed": 49654,
     "status": "ok",
     "timestamp": 1575964633805,
     "user": {
      "displayName": "Poornima Singh Thakur",
      "photoUrl": "",
      "userId": "03433393276718106554"
     },
     "user_tz": -330
    },
    "id": "7bF5erfjLZmO",
    "outputId": "bb44f3f5-0a0e-419e-a14d-025f9b4bfa0d",
    "scrolled": true
   },
   "outputs": [
    {
     "ename": "ModuleNotFoundError",
     "evalue": "No module named 'google.colab'",
     "output_type": "error",
     "traceback": [
      "\u001b[1;31m---------------------------------------------------------------------------\u001b[0m",
      "\u001b[1;31mModuleNotFoundError\u001b[0m                       Traceback (most recent call last)",
      "\u001b[1;32m<ipython-input-5-d5df0069828e>\u001b[0m in \u001b[0;36m<module>\u001b[1;34m\u001b[0m\n\u001b[1;32m----> 1\u001b[1;33m \u001b[1;32mfrom\u001b[0m \u001b[0mgoogle\u001b[0m\u001b[1;33m.\u001b[0m\u001b[0mcolab\u001b[0m \u001b[1;32mimport\u001b[0m \u001b[0mdrive\u001b[0m\u001b[1;33m\u001b[0m\u001b[1;33m\u001b[0m\u001b[0m\n\u001b[0m\u001b[0;32m      2\u001b[0m \u001b[0mdrive\u001b[0m\u001b[1;33m.\u001b[0m\u001b[0mmount\u001b[0m\u001b[1;33m(\u001b[0m\u001b[1;34m'/content/drive'\u001b[0m\u001b[1;33m)\u001b[0m\u001b[1;33m\u001b[0m\u001b[1;33m\u001b[0m\u001b[0m\n",
      "\u001b[1;31mModuleNotFoundError\u001b[0m: No module named 'google.colab'"
     ]
    }
   ],
   "source": [
    "from google.colab import drive\n",
    "drive.mount('/content/drive')"
   ]
  },
  {
   "cell_type": "code",
   "execution_count": null,
   "metadata": {
    "colab": {},
    "colab_type": "code",
    "id": "v6Ls2tq2g8m0"
   },
   "outputs": [],
   "source": [
    "%cd /content/drive/My Drive/"
   ]
  },
  {
   "cell_type": "code",
   "execution_count": null,
   "metadata": {
    "colab": {
     "base_uri": "https://localhost:8080/",
     "height": 292
    },
    "colab_type": "code",
    "executionInfo": {
     "elapsed": 6134,
     "status": "ok",
     "timestamp": 1575954001721,
     "user": {
      "displayName": "SAMIR JAIN",
      "photoUrl": "https://lh3.googleusercontent.com/a-/AAuE7mDriPQc7R2A1wmlgRE0cCj2kaA0bs8EKtw4R_4P=s64",
      "userId": "08037377963432111411"
     },
     "user_tz": -330
    },
    "id": "hiOCGL81LWiA",
    "outputId": "b9f5d15c-2b84-45a2-9539-adf823dbcfa0"
   },
   "outputs": [],
   "source": [
    "!pip install mlxtend"
   ]
  },
  {
   "cell_type": "code",
   "execution_count": 6,
   "metadata": {
    "colab": {},
    "colab_type": "code",
    "id": "gY-e5fbdLWiJ"
   },
   "outputs": [],
   "source": [
    "from mlxtend.data import loadlocal_mnist\n",
    "X_train, y_train = loadlocal_mnist(\n",
    "        images_path='letters/mnist-letters-train-images-idx3-ubyte',\n",
    "        labels_path='letters/mnist-letters-train-labels-idx1-ubyte')\n",
    "X_test, y_test = loadlocal_mnist(\n",
    "        images_path='letters/mnist-letters-test-images-idx3-ubyte',\n",
    "        labels_path='letters/mnist-letters-test-labels-idx1-ubyte')"
   ]
  },
  {
   "cell_type": "code",
   "execution_count": 7,
   "metadata": {
    "colab": {},
    "colab_type": "code",
    "id": "i5I1_WHXLWiN"
   },
   "outputs": [],
   "source": [
    "import numpy as np"
   ]
  },
  {
   "cell_type": "code",
   "execution_count": 8,
   "metadata": {
    "colab": {
     "base_uri": "https://localhost:8080/",
     "height": 305
    },
    "colab_type": "code",
    "executionInfo": {
     "elapsed": 2457,
     "status": "ok",
     "timestamp": 1575954593520,
     "user": {
      "displayName": "SAMIR JAIN",
      "photoUrl": "https://lh3.googleusercontent.com/a-/AAuE7mDriPQc7R2A1wmlgRE0cCj2kaA0bs8EKtw4R_4P=s64",
      "userId": "08037377963432111411"
     },
     "user_tz": -330
    },
    "id": "o4sCoj_7LWiR",
    "outputId": "bac50e2a-c34c-4b80-82d9-69193fec95be"
   },
   "outputs": [
    {
     "name": "stdout",
     "output_type": "stream",
     "text": [
      "Train: X=(124800, 784), y=(124800,)\n",
      "Test: X=(20800, 784), y=(20800,)\n"
     ]
    },
    {
     "data": {
      "text/plain": [
       "<Figure size 640x480 with 9 Axes>"
      ]
     },
     "metadata": {},
     "output_type": "display_data"
    }
   ],
   "source": [
    "from matplotlib import pyplot\n",
    "# load dataset\n",
    "print('Train: X=%s, y=%s' % (X_train.shape, y_train.shape))\n",
    "print('Test: X=%s, y=%s' % (X_test.shape,y_test.shape))\n",
    "X=X_train.reshape(124800,28,28)\n",
    "# plot first few images\n",
    "for i in range(9):\n",
    "    # define subplot\n",
    "    pyplot.subplot(330 + 1 + i)\n",
    "    # plot raw pixel data\n",
    "    pyplot.imshow(X[i], cmap=pyplot.get_cmap('gray'))\n",
    "# show the figure\n",
    "pyplot.show()"
   ]
  },
  {
   "cell_type": "code",
   "execution_count": 9,
   "metadata": {
    "colab": {
     "base_uri": "https://localhost:8080/",
     "height": 54
    },
    "colab_type": "code",
    "executionInfo": {
     "elapsed": 677,
     "status": "ok",
     "timestamp": 1575954594958,
     "user": {
      "displayName": "SAMIR JAIN",
      "photoUrl": "https://lh3.googleusercontent.com/a-/AAuE7mDriPQc7R2A1wmlgRE0cCj2kaA0bs8EKtw4R_4P=s64",
      "userId": "08037377963432111411"
     },
     "user_tz": -330
    },
    "id": "T1enGL6YLWiU",
    "outputId": "3837a67d-113d-4c98-f0ae-48ecfb4f8011"
   },
   "outputs": [
    {
     "data": {
      "text/plain": [
       "array([ 1,  2,  3,  4,  5,  6,  7,  8,  9, 10, 11, 12, 13, 14, 15, 16, 17,\n",
       "       18, 19, 20, 21, 22, 23, 24, 25, 26], dtype=uint8)"
      ]
     },
     "execution_count": 9,
     "metadata": {},
     "output_type": "execute_result"
    }
   ],
   "source": [
    "np.unique(y_train)"
   ]
  },
  {
   "cell_type": "code",
   "execution_count": 10,
   "metadata": {
    "colab": {
     "base_uri": "https://localhost:8080/",
     "height": 54
    },
    "colab_type": "code",
    "executionInfo": {
     "elapsed": 975,
     "status": "ok",
     "timestamp": 1575954596980,
     "user": {
      "displayName": "SAMIR JAIN",
      "photoUrl": "https://lh3.googleusercontent.com/a-/AAuE7mDriPQc7R2A1wmlgRE0cCj2kaA0bs8EKtw4R_4P=s64",
      "userId": "08037377963432111411"
     },
     "user_tz": -330
    },
    "id": "whSbCChDLWiW",
    "outputId": "d24714e5-7cb9-4f5e-94ee-650701fbf7c1"
   },
   "outputs": [
    {
     "data": {
      "text/plain": [
       "array([ 1,  2,  3,  4,  5,  6,  7,  8,  9, 10, 11, 12, 13, 14, 15, 16, 17,\n",
       "       18, 19, 20, 21, 22, 23, 24, 25, 26], dtype=uint8)"
      ]
     },
     "execution_count": 10,
     "metadata": {},
     "output_type": "execute_result"
    }
   ],
   "source": [
    "np.unique(y_test)"
   ]
  },
  {
   "cell_type": "code",
   "execution_count": 11,
   "metadata": {
    "colab": {},
    "colab_type": "code",
    "id": "z8P-1hAjLWiY",
    "outputId": "4a8cd303-a756-4bd0-ca44-34fb9f4d3e3c"
   },
   "outputs": [
    {
     "name": "stderr",
     "output_type": "stream",
     "text": [
      "Using TensorFlow backend.\n",
      "C:\\Users\\Dhanjal\\AppData\\Local\\Continuum\\anaconda3\\envs\\tensorflow\\lib\\site-packages\\tensorflow\\python\\framework\\dtypes.py:516: FutureWarning: Passing (type, 1) or '1type' as a synonym of type is deprecated; in a future version of numpy, it will be understood as (type, (1,)) / '(1,)type'.\n",
      "  _np_qint8 = np.dtype([(\"qint8\", np.int8, 1)])\n",
      "C:\\Users\\Dhanjal\\AppData\\Local\\Continuum\\anaconda3\\envs\\tensorflow\\lib\\site-packages\\tensorflow\\python\\framework\\dtypes.py:517: FutureWarning: Passing (type, 1) or '1type' as a synonym of type is deprecated; in a future version of numpy, it will be understood as (type, (1,)) / '(1,)type'.\n",
      "  _np_quint8 = np.dtype([(\"quint8\", np.uint8, 1)])\n",
      "C:\\Users\\Dhanjal\\AppData\\Local\\Continuum\\anaconda3\\envs\\tensorflow\\lib\\site-packages\\tensorflow\\python\\framework\\dtypes.py:518: FutureWarning: Passing (type, 1) or '1type' as a synonym of type is deprecated; in a future version of numpy, it will be understood as (type, (1,)) / '(1,)type'.\n",
      "  _np_qint16 = np.dtype([(\"qint16\", np.int16, 1)])\n",
      "C:\\Users\\Dhanjal\\AppData\\Local\\Continuum\\anaconda3\\envs\\tensorflow\\lib\\site-packages\\tensorflow\\python\\framework\\dtypes.py:519: FutureWarning: Passing (type, 1) or '1type' as a synonym of type is deprecated; in a future version of numpy, it will be understood as (type, (1,)) / '(1,)type'.\n",
      "  _np_quint16 = np.dtype([(\"quint16\", np.uint16, 1)])\n",
      "C:\\Users\\Dhanjal\\AppData\\Local\\Continuum\\anaconda3\\envs\\tensorflow\\lib\\site-packages\\tensorflow\\python\\framework\\dtypes.py:520: FutureWarning: Passing (type, 1) or '1type' as a synonym of type is deprecated; in a future version of numpy, it will be understood as (type, (1,)) / '(1,)type'.\n",
      "  _np_qint32 = np.dtype([(\"qint32\", np.int32, 1)])\n",
      "C:\\Users\\Dhanjal\\AppData\\Local\\Continuum\\anaconda3\\envs\\tensorflow\\lib\\site-packages\\tensorflow\\python\\framework\\dtypes.py:525: FutureWarning: Passing (type, 1) or '1type' as a synonym of type is deprecated; in a future version of numpy, it will be understood as (type, (1,)) / '(1,)type'.\n",
      "  np_resource = np.dtype([(\"resource\", np.ubyte, 1)])\n",
      "C:\\Users\\Dhanjal\\AppData\\Local\\Continuum\\anaconda3\\envs\\tensorflow\\lib\\site-packages\\tensorboard\\compat\\tensorflow_stub\\dtypes.py:541: FutureWarning: Passing (type, 1) or '1type' as a synonym of type is deprecated; in a future version of numpy, it will be understood as (type, (1,)) / '(1,)type'.\n",
      "  _np_qint8 = np.dtype([(\"qint8\", np.int8, 1)])\n",
      "C:\\Users\\Dhanjal\\AppData\\Local\\Continuum\\anaconda3\\envs\\tensorflow\\lib\\site-packages\\tensorboard\\compat\\tensorflow_stub\\dtypes.py:542: FutureWarning: Passing (type, 1) or '1type' as a synonym of type is deprecated; in a future version of numpy, it will be understood as (type, (1,)) / '(1,)type'.\n",
      "  _np_quint8 = np.dtype([(\"quint8\", np.uint8, 1)])\n",
      "C:\\Users\\Dhanjal\\AppData\\Local\\Continuum\\anaconda3\\envs\\tensorflow\\lib\\site-packages\\tensorboard\\compat\\tensorflow_stub\\dtypes.py:543: FutureWarning: Passing (type, 1) or '1type' as a synonym of type is deprecated; in a future version of numpy, it will be understood as (type, (1,)) / '(1,)type'.\n",
      "  _np_qint16 = np.dtype([(\"qint16\", np.int16, 1)])\n",
      "C:\\Users\\Dhanjal\\AppData\\Local\\Continuum\\anaconda3\\envs\\tensorflow\\lib\\site-packages\\tensorboard\\compat\\tensorflow_stub\\dtypes.py:544: FutureWarning: Passing (type, 1) or '1type' as a synonym of type is deprecated; in a future version of numpy, it will be understood as (type, (1,)) / '(1,)type'.\n",
      "  _np_quint16 = np.dtype([(\"quint16\", np.uint16, 1)])\n",
      "C:\\Users\\Dhanjal\\AppData\\Local\\Continuum\\anaconda3\\envs\\tensorflow\\lib\\site-packages\\tensorboard\\compat\\tensorflow_stub\\dtypes.py:545: FutureWarning: Passing (type, 1) or '1type' as a synonym of type is deprecated; in a future version of numpy, it will be understood as (type, (1,)) / '(1,)type'.\n",
      "  _np_qint32 = np.dtype([(\"qint32\", np.int32, 1)])\n",
      "C:\\Users\\Dhanjal\\AppData\\Local\\Continuum\\anaconda3\\envs\\tensorflow\\lib\\site-packages\\tensorboard\\compat\\tensorflow_stub\\dtypes.py:550: FutureWarning: Passing (type, 1) or '1type' as a synonym of type is deprecated; in a future version of numpy, it will be understood as (type, (1,)) / '(1,)type'.\n",
      "  np_resource = np.dtype([(\"resource\", np.ubyte, 1)])\n"
     ]
    }
   ],
   "source": [
    "import numpy as np\n",
    "import matplotlib.pyplot as plt\n",
    "import keras\n",
    "from keras.models import Sequential\n",
    "from keras.datasets import mnist\n",
    "from keras.layers import Dense\n",
    "from keras.optimizers import Adam\n",
    "#because of multiclass datasets\n",
    "from keras.utils.np_utils import to_categorical \n",
    "import random\n",
    "from keras.models import Sequential\n",
    "from keras.layers import Dense, Conv2D, Dropout, Flatten, MaxPooling2D"
   ]
  },
  {
   "cell_type": "code",
   "execution_count": 12,
   "metadata": {
    "colab": {
     "base_uri": "https://localhost:8080/",
     "height": 35
    },
    "colab_type": "code",
    "executionInfo": {
     "elapsed": 654,
     "status": "ok",
     "timestamp": 1575954599965,
     "user": {
      "displayName": "SAMIR JAIN",
      "photoUrl": "https://lh3.googleusercontent.com/a-/AAuE7mDriPQc7R2A1wmlgRE0cCj2kaA0bs8EKtw4R_4P=s64",
      "userId": "08037377963432111411"
     },
     "user_tz": -330
    },
    "id": "rwnTGKD7LWiZ",
    "outputId": "31a97c54-0fe3-4976-bce1-57efcb926177"
   },
   "outputs": [
    {
     "name": "stdout",
     "output_type": "stream",
     "text": [
      "124800 784\n"
     ]
    }
   ],
   "source": [
    "num_images,num_pixels=X_train.shape\n",
    "num_of_classes=26\n",
    "print(num_images,num_pixels)\n"
   ]
  },
  {
   "cell_type": "code",
   "execution_count": 13,
   "metadata": {
    "colab": {},
    "colab_type": "code",
    "id": "5TY4M3tJNYlX"
   },
   "outputs": [],
   "source": [
    "X_train=X_train.reshape(124800,28,28,1)"
   ]
  },
  {
   "cell_type": "code",
   "execution_count": 14,
   "metadata": {
    "colab": {},
    "colab_type": "code",
    "id": "1yOUE3ToLWib"
   },
   "outputs": [],
   "source": [
    "y_train = to_categorical(y_train)\n",
    "y_test = to_categorical(y_test)\n",
    "X_train = X_train/255 \n",
    "X_test = X_test/255"
   ]
  },
  {
   "cell_type": "code",
   "execution_count": 15,
   "metadata": {
    "colab": {
     "base_uri": "https://localhost:8080/",
     "height": 54
    },
    "colab_type": "code",
    "executionInfo": {
     "elapsed": 671,
     "status": "ok",
     "timestamp": 1575954604772,
     "user": {
      "displayName": "SAMIR JAIN",
      "photoUrl": "https://lh3.googleusercontent.com/a-/AAuE7mDriPQc7R2A1wmlgRE0cCj2kaA0bs8EKtw4R_4P=s64",
      "userId": "08037377963432111411"
     },
     "user_tz": -330
    },
    "id": "2PR0HmOhLWid",
    "outputId": "4c54767b-1a4a-4068-c08c-6125f7f8109f"
   },
   "outputs": [
    {
     "data": {
      "text/plain": [
       "array([0., 0., 0., 0., 0., 0., 0., 0., 0., 0., 0., 0., 0., 0., 0., 0., 0.,\n",
       "       0., 0., 0., 0., 0., 0., 1., 0., 0., 0.], dtype=float32)"
      ]
     },
     "execution_count": 15,
     "metadata": {},
     "output_type": "execute_result"
    }
   ],
   "source": [
    "y_train[0]"
   ]
  },
  {
   "cell_type": "code",
   "execution_count": 16,
   "metadata": {
    "colab": {
     "base_uri": "https://localhost:8080/",
     "height": 1000
    },
    "colab_type": "code",
    "executionInfo": {
     "elapsed": 682962,
     "status": "ok",
     "timestamp": 1575955288534,
     "user": {
      "displayName": "SAMIR JAIN",
      "photoUrl": "https://lh3.googleusercontent.com/a-/AAuE7mDriPQc7R2A1wmlgRE0cCj2kaA0bs8EKtw4R_4P=s64",
      "userId": "08037377963432111411"
     },
     "user_tz": -330
    },
    "id": "Gg37xtnhLWie",
    "outputId": "b28cae89-0c8f-4c91-a31a-d6c31ab2963a"
   },
   "outputs": [
    {
     "name": "stdout",
     "output_type": "stream",
     "text": [
      "WARNING:tensorflow:From C:\\Users\\Dhanjal\\AppData\\Local\\Continuum\\anaconda3\\envs\\tensorflow\\lib\\site-packages\\keras\\backend\\tensorflow_backend.py:74: The name tf.get_default_graph is deprecated. Please use tf.compat.v1.get_default_graph instead.\n",
      "\n",
      "WARNING:tensorflow:From C:\\Users\\Dhanjal\\AppData\\Local\\Continuum\\anaconda3\\envs\\tensorflow\\lib\\site-packages\\keras\\backend\\tensorflow_backend.py:517: The name tf.placeholder is deprecated. Please use tf.compat.v1.placeholder instead.\n",
      "\n",
      "WARNING:tensorflow:From C:\\Users\\Dhanjal\\AppData\\Local\\Continuum\\anaconda3\\envs\\tensorflow\\lib\\site-packages\\keras\\backend\\tensorflow_backend.py:4138: The name tf.random_uniform is deprecated. Please use tf.random.uniform instead.\n",
      "\n",
      "WARNING:tensorflow:From C:\\Users\\Dhanjal\\AppData\\Local\\Continuum\\anaconda3\\envs\\tensorflow\\lib\\site-packages\\keras\\backend\\tensorflow_backend.py:3976: The name tf.nn.max_pool is deprecated. Please use tf.nn.max_pool2d instead.\n",
      "\n",
      "WARNING:tensorflow:From C:\\Users\\Dhanjal\\AppData\\Local\\Continuum\\anaconda3\\envs\\tensorflow\\lib\\site-packages\\keras\\backend\\tensorflow_backend.py:133: The name tf.placeholder_with_default is deprecated. Please use tf.compat.v1.placeholder_with_default instead.\n",
      "\n",
      "WARNING:tensorflow:From C:\\Users\\Dhanjal\\AppData\\Local\\Continuum\\anaconda3\\envs\\tensorflow\\lib\\site-packages\\keras\\backend\\tensorflow_backend.py:3445: calling dropout (from tensorflow.python.ops.nn_ops) with keep_prob is deprecated and will be removed in a future version.\n",
      "Instructions for updating:\n",
      "Please use `rate` instead of `keep_prob`. Rate should be set to `rate = 1 - keep_prob`.\n",
      "WARNING:tensorflow:From C:\\Users\\Dhanjal\\AppData\\Local\\Continuum\\anaconda3\\envs\\tensorflow\\lib\\site-packages\\keras\\optimizers.py:790: The name tf.train.Optimizer is deprecated. Please use tf.compat.v1.train.Optimizer instead.\n",
      "\n",
      "WARNING:tensorflow:From C:\\Users\\Dhanjal\\AppData\\Local\\Continuum\\anaconda3\\envs\\tensorflow\\lib\\site-packages\\keras\\backend\\tensorflow_backend.py:3295: The name tf.log is deprecated. Please use tf.math.log instead.\n",
      "\n",
      "_________________________________________________________________\n",
      "Layer (type)                 Output Shape              Param #   \n",
      "=================================================================\n",
      "conv2d_1 (Conv2D)            (None, 26, 26, 30)        300       \n",
      "_________________________________________________________________\n",
      "max_pooling2d_1 (MaxPooling2 (None, 13, 13, 30)        0         \n",
      "_________________________________________________________________\n",
      "flatten_1 (Flatten)          (None, 5070)              0         \n",
      "_________________________________________________________________\n",
      "dense_1 (Dense)              (None, 128)               649088    \n",
      "_________________________________________________________________\n",
      "dropout_1 (Dropout)          (None, 128)               0         \n",
      "_________________________________________________________________\n",
      "dense_2 (Dense)              (None, 27)                3483      \n",
      "=================================================================\n",
      "Total params: 652,871\n",
      "Trainable params: 652,871\n",
      "Non-trainable params: 0\n",
      "_________________________________________________________________\n",
      "None\n",
      "WARNING:tensorflow:From C:\\Users\\Dhanjal\\AppData\\Local\\Continuum\\anaconda3\\envs\\tensorflow\\lib\\site-packages\\tensorflow\\python\\ops\\math_grad.py:1250: add_dispatch_support.<locals>.wrapper (from tensorflow.python.ops.array_ops) is deprecated and will be removed in a future version.\n",
      "Instructions for updating:\n",
      "Use tf.where in 2.0, which has the same broadcast rule as np.where\n",
      "Train on 112320 samples, validate on 12480 samples\n",
      "Epoch 1/10\n",
      "112320/112320 [==============================] - 45s 396us/step - loss: 0.6559 - acc: 0.7949 - val_loss: 0.3842 - val_acc: 0.8791\n",
      "Epoch 2/10\n",
      "112320/112320 [==============================] - 39s 349us/step - loss: 0.4554 - acc: 0.8551 - val_loss: 0.3575 - val_acc: 0.8859\n",
      "Epoch 3/10\n",
      "112320/112320 [==============================] - 39s 349us/step - loss: 0.4138 - acc: 0.8663 - val_loss: 0.3328 - val_acc: 0.8944\n",
      "Epoch 4/10\n",
      "112320/112320 [==============================] - 39s 348us/step - loss: 0.3893 - acc: 0.8722 - val_loss: 0.3259 - val_acc: 0.8967\n",
      "Epoch 5/10\n",
      "112320/112320 [==============================] - 39s 348us/step - loss: 0.3708 - acc: 0.8776 - val_loss: 0.3320 - val_acc: 0.8969\n",
      "Epoch 6/10\n",
      "112320/112320 [==============================] - 40s 354us/step - loss: 0.3631 - acc: 0.8810 - val_loss: 0.3347 - val_acc: 0.8932\n",
      "Epoch 7/10\n",
      "112320/112320 [==============================] - 39s 350us/step - loss: 0.3556 - acc: 0.8831 - val_loss: 0.3414 - val_acc: 0.8978\n",
      "Epoch 8/10\n",
      "112320/112320 [==============================] - 39s 349us/step - loss: 0.3386 - acc: 0.8876 - val_loss: 0.3522 - val_acc: 0.8990\n",
      "Epoch 9/10\n",
      "112320/112320 [==============================] - 41s 362us/step - loss: 0.3380 - acc: 0.8885 - val_loss: 0.3486 - val_acc: 0.9030\n",
      "Epoch 10/10\n",
      "112320/112320 [==============================] - 40s 360us/step - loss: 0.3294 - acc: 0.8904 - val_loss: 0.3470 - val_acc: 0.8995\n"
     ]
    }
   ],
   "source": [
    "model = Sequential()\n",
    "model.add(Conv2D(30, kernel_size=(3,3), activation='relu', input_shape=(28,28,1)))\n",
    "model.add(MaxPooling2D(pool_size=(2, 2)))\n",
    "model.add(Flatten()) # Flattening the 2D arrays for fully connected layers\n",
    "model.add(Dense(128, activation='relu'))\n",
    "model.add(Dropout(0.2))\n",
    "model.add(Dense(27,activation='softmax'))\n",
    "model.compile(Adam(lr=0.01), #lr: learning rate\n",
    "            loss='categorical_crossentropy', #loss function\n",
    "           metrics=['accuracy'])\n",
    "print(model.summary())\n",
    "\n",
    "history = model.fit(X_train, y_train, validation_split=0.1, epochs=10, batch_size=50, \n",
    "                    verbose=1, shuffle=1)"
   ]
  },
  {
   "cell_type": "code",
   "execution_count": 17,
   "metadata": {
    "colab": {
     "base_uri": "https://localhost:8080/",
     "height": 313
    },
    "colab_type": "code",
    "executionInfo": {
     "elapsed": 1332,
     "status": "ok",
     "timestamp": 1575955399896,
     "user": {
      "displayName": "SAMIR JAIN",
      "photoUrl": "https://lh3.googleusercontent.com/a-/AAuE7mDriPQc7R2A1wmlgRE0cCj2kaA0bs8EKtw4R_4P=s64",
      "userId": "08037377963432111411"
     },
     "user_tz": -330
    },
    "id": "j4KBLdYPLWii",
    "outputId": "42b8acbd-5f74-4ae3-8fef-5a27c55cd782"
   },
   "outputs": [
    {
     "data": {
      "text/plain": [
       "Text(0.5, 0, 'epoch')"
      ]
     },
     "execution_count": 17,
     "metadata": {},
     "output_type": "execute_result"
    },
    {
     "data": {
      "image/png": "[encoded data removed]",
      "text/plain": [
       "<Figure size 432x288 with 1 Axes>"
      ]
     },
     "metadata": {
      "needs_background": "light"
     },
     "output_type": "display_data"
    }
   ],
   "source": [
    "plt.plot(history.history['loss'])\n",
    "plt.plot(history.history['val_loss'])\n",
    "plt.legend(['loss', 'val_loss'])\n",
    "plt.title('Loss')\n",
    "plt.xlabel('epoch')"
   ]
  },
  {
   "cell_type": "code",
   "execution_count": 18,
   "metadata": {
    "colab": {
     "base_uri": "https://localhost:8080/",
     "height": 313
    },
    "colab_type": "code",
    "executionInfo": {
     "elapsed": 1312,
     "status": "ok",
     "timestamp": 1575955411932,
     "user": {
      "displayName": "SAMIR JAIN",
      "photoUrl": "https://lh3.googleusercontent.com/a-/AAuE7mDriPQc7R2A1wmlgRE0cCj2kaA0bs8EKtw4R_4P=s64",
      "userId": "08037377963432111411"
     },
     "user_tz": -330
    },
    "id": "VXE8_5kxQp_X",
    "outputId": "6c361f6c-b06d-4811-8224-3d7f748e1b82"
   },
   "outputs": [
    {
     "data": {
      "text/plain": [
       "Text(0.5, 0, 'epoch')"
      ]
     },
     "execution_count": 18,
     "metadata": {},
     "output_type": "execute_result"
    },
    {
     "data": {
      "image/png": "[encoded data removed]",
      "text/plain": [
       "<Figure size 432x288 with 1 Axes>"
      ]
     },
     "metadata": {
      "needs_background": "light"
     },
     "output_type": "display_data"
    }
   ],
   "source": [
    "plt.plot(history.history['acc'])\n",
    "plt.plot(history.history['val_acc'])\n",
    "plt.legend(['acc', 'val_acc'])\n",
    "plt.title('Accuracy')\n",
    "plt.xlabel('epoch')"
   ]
  },
  {
   "cell_type": "code",
   "execution_count": 19,
   "metadata": {
    "colab": {
     "base_uri": "https://localhost:8080/",
     "height": 35
    },
    "colab_type": "code",
    "executionInfo": {
     "elapsed": 1373,
     "status": "ok",
     "timestamp": 1575955439155,
     "user": {
      "displayName": "SAMIR JAIN",
      "photoUrl": "https://lh3.googleusercontent.com/a-/AAuE7mDriPQc7R2A1wmlgRE0cCj2kaA0bs8EKtw4R_4P=s64",
      "userId": "08037377963432111411"
     },
     "user_tz": -330
    },
    "id": "JoGfALuQQTN6",
    "outputId": "a7072c1a-a1df-46f4-dbbc-933998e0058c"
   },
   "outputs": [
    {
     "data": {
      "text/plain": [
       "(20800, 784)"
      ]
     },
     "execution_count": 19,
     "metadata": {},
     "output_type": "execute_result"
    }
   ],
   "source": [
    "X_test.shape"
   ]
  },
  {
   "cell_type": "code",
   "execution_count": 20,
   "metadata": {
    "colab": {},
    "colab_type": "code",
    "id": "vRLmXNcRQOr6"
   },
   "outputs": [],
   "source": [
    "X_test=X_test.reshape(20800,28,28,1)"
   ]
  },
  {
   "cell_type": "code",
   "execution_count": 21,
   "metadata": {
    "colab": {
     "base_uri": "https://localhost:8080/",
     "height": 54
    },
    "colab_type": "code",
    "executionInfo": {
     "elapsed": 4631,
     "status": "ok",
     "timestamp": 1575955482492,
     "user": {
      "displayName": "SAMIR JAIN",
      "photoUrl": "https://lh3.googleusercontent.com/a-/AAuE7mDriPQc7R2A1wmlgRE0cCj2kaA0bs8EKtw4R_4P=s64",
      "userId": "08037377963432111411"
     },
     "user_tz": -330
    },
    "id": "ZYGYtOYgLWik",
    "outputId": "33338cd1-2c97-4864-f417-0fe29fc770bb"
   },
   "outputs": [
    {
     "name": "stdout",
     "output_type": "stream",
     "text": [
      "20800/20800 [==============================] - 2s 106us/step\n"
     ]
    },
    {
     "data": {
      "text/plain": [
       "[0.37589487445831765, 0.8957211538461538]"
      ]
     },
     "execution_count": 21,
     "metadata": {},
     "output_type": "execute_result"
    }
   ],
   "source": [
    "model.evaluate(X_test,y_test)"
   ]
  }
 ],
 "metadata": {
  "accelerator": "GPU",
  "colab": {
   "collapsed_sections": [],
   "name": "character_recognition.ipynb",
   "provenance": []
  },
  "kernelspec": {
   "display_name": "Python 3",
   "language": "python",
   "name": "python3"
  },
  "language_info": {
   "codemirror_mode": {
    "name": "ipython",
    "version": 3
   },
   "file_extension": ".py",
   "mimetype": "text/x-python",
   "name": "python",
   "nbconvert_exporter": "python",
   "pygments_lexer": "ipython3",
   "version": "3.7.5"
  }
 },
 "nbformat": 4,
 "nbformat_minor": 1
}
