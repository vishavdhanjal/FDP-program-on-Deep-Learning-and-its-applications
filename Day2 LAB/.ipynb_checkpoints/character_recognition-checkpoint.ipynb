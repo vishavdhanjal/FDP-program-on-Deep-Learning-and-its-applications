{
 "cells": [
  {
   "cell_type": "markdown",
   "metadata": {
    "colab_type": "text",
    "id": "_8ngN09Jg8mh"
   },
   "source": [
    "# Joint Winter NKN Faculty Development Program 2019-20 (9-13 Dec 2019)"
   ]
  },
  {
   "cell_type": "markdown",
   "metadata": {
    "colab_type": "text",
    "id": "Qe6BTMUJg8mm"
   },
   "source": [
    "## Deep Learning & Applications "
   ]
  },
  {
   "cell_type": "markdown",
   "metadata": {
    "colab_type": "text",
    "id": "GKSfEeP6g8mo"
   },
   "source": [
    "**Principal Coordinator** - IIITDM Jabalpur **Co-Principal Coordinator** - NIT Warangal\n",
    "\n",
    "**Particiapting Academies -** IIITDM Jabalpur, MNIT Jaipur, NIT Patna, NIT Warangal"
   ]
  },
  {
   "cell_type": "markdown",
   "metadata": {
    "colab_type": "text",
    "id": "LXYAbzC4g8mp"
   },
   "source": [
    "# Tutorial 4: CNN for Character Classification"
   ]
  },
  {
   "cell_type": "markdown",
   "metadata": {
    "colab_type": "text",
    "id": "gzJyquRpg8mr"
   },
   "source": [
    "A Convolutional Neural Network (ConvNet/CNN) is a Deep Learning algorithm which can take in an input image, assign weights and biases to various layers of the network in the image and be able to differentiate one from the other. CNN mainly consists of stack of Convolutional and pooling layers. At the end of the model Fully connected layers are present. "
   ]
  },
  {
   "cell_type": "markdown",
   "metadata": {
    "colab_type": "text",
    "id": "cXvlzYQJg8mt"
   },
   "source": [
    "# Practice Problem - "
   ]
  },
  {
   "cell_type": "markdown",
   "metadata": {
    "colab_type": "text",
    "id": "6rsxj2Ugyhvk"
   },
   "source": [
    "####[ EMNIST ](https://www.nist.gov/itl/products-and-services/emnist-dataset) dataset is a character recognition dataset in which our objective is to train a model which can recognize the category of characters."
   ]
  },
  {
   "cell_type": "markdown",
   "metadata": {
    "colab_type": "text",
    "id": "Z5V980PkzN9d"
   },
   "source": [
    "**1. Mount the Google Drive**"
   ]
  },
  {
   "cell_type": "code",
   "execution_count": 1,
   "metadata": {
    "colab": {
     "base_uri": "https://localhost:8080/",
     "height": 125
    },
    "colab_type": "code",
    "executionInfo": {
     "elapsed": 49654,
     "status": "ok",
     "timestamp": 1575964633805,
     "user": {
      "displayName": "Poornima Singh Thakur",
      "photoUrl": "",
      "userId": "03433393276718106554"
     },
     "user_tz": -330
    },
    "id": "7bF5erfjLZmO",
    "outputId": "bb44f3f5-0a0e-419e-a14d-025f9b4bfa0d",
    "scrolled": true
   },
   "outputs": [
    {
     "name": "stdout",
     "output_type": "stream",
     "text": [
      "Go to this URL in a browser: https://accounts.google.com/o/oauth2/auth?client_id=947318989803-6bn6qk8qdgf4n4g3pfee6491hc0brc4i.apps.googleusercontent.com&redirect_uri=urn%3aietf%3awg%3aoauth%3a2.0%3aoob&response_type=code&scope=email%20https%3a%2f%2fwww.googleapis.com%2fauth%2fdocs.test%20https%3a%2f%2fwww.googleapis.com%2fauth%2fdrive%20https%3a%2f%2fwww.googleapis.com%2fauth%2fdrive.photos.readonly%20https%3a%2f%2fwww.googleapis.com%2fauth%2fpeopleapi.readonly\n",
      "\n",
      "Enter your authorization code:\n",
      "··········\n",
      "Mounted at /content/drive\n"
     ]
    }
   ],
   "source": [
    "from google.colab import drive\n",
    "drive.mount('/content/drive')"
   ]
  },
  {
   "cell_type": "code",
   "execution_count": 0,
   "metadata": {
    "colab": {},
    "colab_type": "code",
    "id": "v6Ls2tq2g8m0"
   },
   "outputs": [],
   "source": [
    "%cd /content/drive/My Drive/"
   ]
  },
  {
   "cell_type": "code",
   "execution_count": 0,
   "metadata": {
    "colab": {
     "base_uri": "https://localhost:8080/",
     "height": 292
    },
    "colab_type": "code",
    "executionInfo": {
     "elapsed": 6134,
     "status": "ok",
     "timestamp": 1575954001721,
     "user": {
      "displayName": "SAMIR JAIN",
      "photoUrl": "https://lh3.googleusercontent.com/a-/AAuE7mDriPQc7R2A1wmlgRE0cCj2kaA0bs8EKtw4R_4P=s64",
      "userId": "08037377963432111411"
     },
     "user_tz": -330
    },
    "id": "hiOCGL81LWiA",
    "outputId": "b9f5d15c-2b84-45a2-9539-adf823dbcfa0"
   },
   "outputs": [
    {
     "name": "stdout",
     "output_type": "stream",
     "text": [
      "Collecting mlxtend\n",
      "  Downloading https://files.pythonhosted.org/packages/52/04/c362f34f666f0ddc7cf593805e64d64fa670ed96fd9302e68549dd48287d/mlxtend-0.17.0-py2.py3-none-any.whl (1.3MB)\n",
      "Requirement already satisfied: joblib>=0.13.2 in c:\\anaconda3\\envs\\tensorflow_gpu\\lib\\site-packages (from mlxtend) (0.13.2)\n",
      "Requirement already satisfied: scikit-learn>=0.20.3 in c:\\anaconda3\\envs\\tensorflow_gpu\\lib\\site-packages (from mlxtend) (0.21.3)\n",
      "Requirement already satisfied: numpy>=1.16.2 in c:\\anaconda3\\envs\\tensorflow_gpu\\lib\\site-packages (from mlxtend) (1.16.4)\n",
      "Requirement already satisfied: setuptools in c:\\anaconda3\\envs\\tensorflow_gpu\\lib\\site-packages (from mlxtend) (41.0.1)\n",
      "Requirement already satisfied: pandas>=0.24.2 in c:\\anaconda3\\envs\\tensorflow_gpu\\lib\\site-packages (from mlxtend) (0.25.1)\n",
      "Requirement already satisfied: matplotlib>=3.0.0 in c:\\anaconda3\\envs\\tensorflow_gpu\\lib\\site-packages (from mlxtend) (3.1.1)\n",
      "Requirement already satisfied: scipy>=1.2.1 in c:\\anaconda3\\envs\\tensorflow_gpu\\lib\\site-packages (from mlxtend) (1.3.1)\n",
      "Requirement already satisfied: pytz>=2017.2 in c:\\anaconda3\\envs\\tensorflow_gpu\\lib\\site-packages (from pandas>=0.24.2->mlxtend) (2019.2)\n",
      "Requirement already satisfied: python-dateutil>=2.6.1 in c:\\anaconda3\\envs\\tensorflow_gpu\\lib\\site-packages (from pandas>=0.24.2->mlxtend) (2.8.0)\n",
      "Requirement already satisfied: cycler>=0.10 in c:\\anaconda3\\envs\\tensorflow_gpu\\lib\\site-packages (from matplotlib>=3.0.0->mlxtend) (0.10.0)\n",
      "Requirement already satisfied: pyparsing!=2.0.4,!=2.1.2,!=2.1.6,>=2.0.1 in c:\\anaconda3\\envs\\tensorflow_gpu\\lib\\site-packages (from matplotlib>=3.0.0->mlxtend) (2.4.2)\n",
      "Requirement already satisfied: kiwisolver>=1.0.1 in c:\\anaconda3\\envs\\tensorflow_gpu\\lib\\site-packages (from matplotlib>=3.0.0->mlxtend) (1.1.0)\n",
      "Requirement already satisfied: six>=1.5 in c:\\anaconda3\\envs\\tensorflow_gpu\\lib\\site-packages (from python-dateutil>=2.6.1->pandas>=0.24.2->mlxtend) (1.12.0)\n",
      "Installing collected packages: mlxtend\n",
      "Successfully installed mlxtend-0.17.0\n"
     ]
    }
   ],
   "source": [
    "!pip install mlxtend"
   ]
  },
  {
   "cell_type": "code",
   "execution_count": 1,
   "metadata": {
    "colab": {},
    "colab_type": "code",
    "id": "gY-e5fbdLWiJ"
   },
   "outputs": [
    {
     "ename": "ModuleNotFoundError",
     "evalue": "No module named 'mlxtend'",
     "output_type": "error",
     "traceback": [
      "\u001b[1;31m---------------------------------------------------------------------------\u001b[0m",
      "\u001b[1;31mModuleNotFoundError\u001b[0m                       Traceback (most recent call last)",
      "\u001b[1;32m<ipython-input-1-9256dba3da0f>\u001b[0m in \u001b[0;36m<module>\u001b[1;34m\u001b[0m\n\u001b[1;32m----> 1\u001b[1;33m \u001b[1;32mfrom\u001b[0m \u001b[0mmlxtend\u001b[0m\u001b[1;33m.\u001b[0m\u001b[0mdata\u001b[0m \u001b[1;32mimport\u001b[0m \u001b[0mloadlocal_mnist\u001b[0m\u001b[1;33m\u001b[0m\u001b[1;33m\u001b[0m\u001b[0m\n\u001b[0m\u001b[0;32m      2\u001b[0m X_train, y_train = loadlocal_mnist(\n\u001b[0;32m      3\u001b[0m         \u001b[0mimages_path\u001b[0m\u001b[1;33m=\u001b[0m\u001b[1;34m'letters/mnist-letters-train-images-idx3-ubyte'\u001b[0m\u001b[1;33m,\u001b[0m\u001b[1;33m\u001b[0m\u001b[1;33m\u001b[0m\u001b[0m\n\u001b[0;32m      4\u001b[0m         labels_path='letters/mnist-letters-train-labels-idx1-ubyte')\n\u001b[0;32m      5\u001b[0m X_test, y_test = loadlocal_mnist(\n",
      "\u001b[1;31mModuleNotFoundError\u001b[0m: No module named 'mlxtend'"
     ]
    }
   ],
   "source": [
    "from mlxtend.data import loadlocal_mnist\n",
    "X_train, y_train = loadlocal_mnist(\n",
    "        images_path='letters/mnist-letters-train-images-idx3-ubyte',\n",
    "        labels_path='letters/mnist-letters-train-labels-idx1-ubyte')\n",
    "X_test, y_test = loadlocal_mnist(\n",
    "        images_path='letters/mnist-letters-test-images-idx3-ubyte',\n",
    "        labels_path='letters/mnist-letters-test-labels-idx1-ubyte')"
   ]
  },
  {
   "cell_type": "code",
   "execution_count": 0,
   "metadata": {
    "colab": {},
    "colab_type": "code",
    "id": "i5I1_WHXLWiN"
   },
   "outputs": [],
   "source": [
    "import numpy as np"
   ]
  },
  {
   "cell_type": "code",
   "execution_count": 0,
   "metadata": {
    "colab": {
     "base_uri": "https://localhost:8080/",
     "height": 305
    },
    "colab_type": "code",
    "executionInfo": {
     "elapsed": 2457,
     "status": "ok",
     "timestamp": 1575954593520,
     "user": {
      "displayName": "SAMIR JAIN",
      "photoUrl": "https://lh3.googleusercontent.com/a-/AAuE7mDriPQc7R2A1wmlgRE0cCj2kaA0bs8EKtw4R_4P=s64",
      "userId": "08037377963432111411"
     },
     "user_tz": -330
    },
    "id": "o4sCoj_7LWiR",
    "outputId": "bac50e2a-c34c-4b80-82d9-69193fec95be"
   },
   "outputs": [
    {
     "name": "stdout",
     "output_type": "stream",
     "text": [
      "Train: X=(124800, 784), y=(124800,)\n",
      "Test: X=(20800, 784), y=(20800,)\n"
     ]
    },
    {
     "data": {
      "text/plain": [
       "<Figure size 640x480 with 9 Axes>"
      ]
     },
     "metadata": {
      "tags": []
     },
     "output_type": "display_data"
    }
   ],
   "source": [
    "from matplotlib import pyplot\n",
    "# load dataset\n",
    "print('Train: X=%s, y=%s' % (X_train.shape, y_train.shape))\n",
    "print('Test: X=%s, y=%s' % (X_test.shape,y_test.shape))\n",
    "X=X_train.reshape(124800,28,28)\n",
    "# plot first few images\n",
    "for i in range(9):\n",
    "    # define subplot\n",
    "    pyplot.subplot(330 + 1 + i)\n",
    "    # plot raw pixel data\n",
    "    pyplot.imshow(X[i], cmap=pyplot.get_cmap('gray'))\n",
    "# show the figure\n",
    "pyplot.show()"
   ]
  },
  {
   "cell_type": "code",
   "execution_count": 0,
   "metadata": {
    "colab": {
     "base_uri": "https://localhost:8080/",
     "height": 54
    },
    "colab_type": "code",
    "executionInfo": {
     "elapsed": 677,
     "status": "ok",
     "timestamp": 1575954594958,
     "user": {
      "displayName": "SAMIR JAIN",
      "photoUrl": "https://lh3.googleusercontent.com/a-/AAuE7mDriPQc7R2A1wmlgRE0cCj2kaA0bs8EKtw4R_4P=s64",
      "userId": "08037377963432111411"
     },
     "user_tz": -330
    },
    "id": "T1enGL6YLWiU",
    "outputId": "3837a67d-113d-4c98-f0ae-48ecfb4f8011"
   },
   "outputs": [
    {
     "data": {
      "text/plain": [
       "array([ 1,  2,  3,  4,  5,  6,  7,  8,  9, 10, 11, 12, 13, 14, 15, 16, 17,\n",
       "       18, 19, 20, 21, 22, 23, 24, 25, 26], dtype=uint8)"
      ]
     },
     "execution_count": 6,
     "metadata": {
      "tags": []
     },
     "output_type": "execute_result"
    }
   ],
   "source": [
    "np.unique(y_train)"
   ]
  },
  {
   "cell_type": "code",
   "execution_count": 0,
   "metadata": {
    "colab": {
     "base_uri": "https://localhost:8080/",
     "height": 54
    },
    "colab_type": "code",
    "executionInfo": {
     "elapsed": 975,
     "status": "ok",
     "timestamp": 1575954596980,
     "user": {
      "displayName": "SAMIR JAIN",
      "photoUrl": "https://lh3.googleusercontent.com/a-/AAuE7mDriPQc7R2A1wmlgRE0cCj2kaA0bs8EKtw4R_4P=s64",
      "userId": "08037377963432111411"
     },
     "user_tz": -330
    },
    "id": "whSbCChDLWiW",
    "outputId": "d24714e5-7cb9-4f5e-94ee-650701fbf7c1"
   },
   "outputs": [
    {
     "data": {
      "text/plain": [
       "array([ 1,  2,  3,  4,  5,  6,  7,  8,  9, 10, 11, 12, 13, 14, 15, 16, 17,\n",
       "       18, 19, 20, 21, 22, 23, 24, 25, 26], dtype=uint8)"
      ]
     },
     "execution_count": 7,
     "metadata": {
      "tags": []
     },
     "output_type": "execute_result"
    }
   ],
   "source": [
    "np.unique(y_test)"
   ]
  },
  {
   "cell_type": "code",
   "execution_count": 0,
   "metadata": {
    "colab": {},
    "colab_type": "code",
    "id": "z8P-1hAjLWiY",
    "outputId": "4a8cd303-a756-4bd0-ca44-34fb9f4d3e3c"
   },
   "outputs": [
    {
     "name": "stderr",
     "output_type": "stream",
     "text": [
      "Using TensorFlow backend.\n"
     ]
    }
   ],
   "source": [
    "import numpy as np\n",
    "import matplotlib.pyplot as plt\n",
    "import keras\n",
    "from keras.models import Sequential\n",
    "from keras.datasets import mnist\n",
    "from keras.layers import Dense\n",
    "from keras.optimizers import Adam\n",
    "#because of multiclass datasets\n",
    "from keras.utils.np_utils import to_categorical \n",
    "import random\n",
    "from keras.models import Sequential\n",
    "from keras.layers import Dense, Conv2D, Dropout, Flatten, MaxPooling2D"
   ]
  },
  {
   "cell_type": "code",
   "execution_count": 0,
   "metadata": {
    "colab": {
     "base_uri": "https://localhost:8080/",
     "height": 35
    },
    "colab_type": "code",
    "executionInfo": {
     "elapsed": 654,
     "status": "ok",
     "timestamp": 1575954599965,
     "user": {
      "displayName": "SAMIR JAIN",
      "photoUrl": "https://lh3.googleusercontent.com/a-/AAuE7mDriPQc7R2A1wmlgRE0cCj2kaA0bs8EKtw4R_4P=s64",
      "userId": "08037377963432111411"
     },
     "user_tz": -330
    },
    "id": "rwnTGKD7LWiZ",
    "outputId": "31a97c54-0fe3-4976-bce1-57efcb926177"
   },
   "outputs": [
    {
     "name": "stdout",
     "output_type": "stream",
     "text": [
      "124800 784\n"
     ]
    }
   ],
   "source": [
    "num_images,num_pixels=X_train.shape\n",
    "num_of_classes=26\n",
    "print(num_images,num_pixels)\n"
   ]
  },
  {
   "cell_type": "code",
   "execution_count": 0,
   "metadata": {
    "colab": {},
    "colab_type": "code",
    "id": "5TY4M3tJNYlX"
   },
   "outputs": [],
   "source": [
    "X_train=X_train.reshape(124800,28,28,1)"
   ]
  },
  {
   "cell_type": "code",
   "execution_count": 0,
   "metadata": {
    "colab": {},
    "colab_type": "code",
    "id": "1yOUE3ToLWib"
   },
   "outputs": [],
   "source": [
    "y_train = to_categorical(y_train)\n",
    "y_test = to_categorical(y_test)\n",
    "X_train = X_train/255 \n",
    "X_test = X_test/255"
   ]
  },
  {
   "cell_type": "code",
   "execution_count": 0,
   "metadata": {
    "colab": {
     "base_uri": "https://localhost:8080/",
     "height": 54
    },
    "colab_type": "code",
    "executionInfo": {
     "elapsed": 671,
     "status": "ok",
     "timestamp": 1575954604772,
     "user": {
      "displayName": "SAMIR JAIN",
      "photoUrl": "https://lh3.googleusercontent.com/a-/AAuE7mDriPQc7R2A1wmlgRE0cCj2kaA0bs8EKtw4R_4P=s64",
      "userId": "08037377963432111411"
     },
     "user_tz": -330
    },
    "id": "2PR0HmOhLWid",
    "outputId": "4c54767b-1a4a-4068-c08c-6125f7f8109f"
   },
   "outputs": [
    {
     "data": {
      "text/plain": [
       "array([0., 0., 0., 0., 0., 0., 0., 0., 0., 0., 0., 0., 0., 0., 0., 0., 0.,\n",
       "       0., 0., 0., 0., 0., 0., 1., 0., 0., 0.], dtype=float32)"
      ]
     },
     "execution_count": 12,
     "metadata": {
      "tags": []
     },
     "output_type": "execute_result"
    }
   ],
   "source": [
    "y_train[0]"
   ]
  },
  {
   "cell_type": "code",
   "execution_count": 0,
   "metadata": {
    "colab": {
     "base_uri": "https://localhost:8080/",
     "height": 1000
    },
    "colab_type": "code",
    "executionInfo": {
     "elapsed": 682962,
     "status": "ok",
     "timestamp": 1575955288534,
     "user": {
      "displayName": "SAMIR JAIN",
      "photoUrl": "https://lh3.googleusercontent.com/a-/AAuE7mDriPQc7R2A1wmlgRE0cCj2kaA0bs8EKtw4R_4P=s64",
      "userId": "08037377963432111411"
     },
     "user_tz": -330
    },
    "id": "Gg37xtnhLWie",
    "outputId": "b28cae89-0c8f-4c91-a31a-d6c31ab2963a"
   },
   "outputs": [
    {
     "name": "stderr",
     "output_type": "stream",
     "text": [
      "WARNING: Logging before flag parsing goes to stderr.\n",
      "W1210 11:36:20.904652   832 deprecation_wrapper.py:119] From c:\\anaconda3\\envs\\tensorflow_gpu\\lib\\site-packages\\keras\\backend\\tensorflow_backend.py:74: The name tf.get_default_graph is deprecated. Please use tf.compat.v1.get_default_graph instead.\n",
      "\n",
      "W1210 11:36:21.687002   832 deprecation_wrapper.py:119] From c:\\anaconda3\\envs\\tensorflow_gpu\\lib\\site-packages\\keras\\backend\\tensorflow_backend.py:517: The name tf.placeholder is deprecated. Please use tf.compat.v1.placeholder instead.\n",
      "\n",
      "W1210 11:36:21.855795   832 deprecation_wrapper.py:119] From c:\\anaconda3\\envs\\tensorflow_gpu\\lib\\site-packages\\keras\\backend\\tensorflow_backend.py:4138: The name tf.random_uniform is deprecated. Please use tf.random.uniform instead.\n",
      "\n",
      "W1210 11:36:22.177139   832 deprecation_wrapper.py:119] From c:\\anaconda3\\envs\\tensorflow_gpu\\lib\\site-packages\\keras\\backend\\tensorflow_backend.py:3976: The name tf.nn.max_pool is deprecated. Please use tf.nn.max_pool2d instead.\n",
      "\n",
      "W1210 11:36:22.371285   832 deprecation_wrapper.py:119] From c:\\anaconda3\\envs\\tensorflow_gpu\\lib\\site-packages\\keras\\backend\\tensorflow_backend.py:133: The name tf.placeholder_with_default is deprecated. Please use tf.compat.v1.placeholder_with_default instead.\n",
      "\n",
      "W1210 11:36:22.385278   832 deprecation.py:506] From c:\\anaconda3\\envs\\tensorflow_gpu\\lib\\site-packages\\keras\\backend\\tensorflow_backend.py:3445: calling dropout (from tensorflow.python.ops.nn_ops) with keep_prob is deprecated and will be removed in a future version.\n",
      "Instructions for updating:\n",
      "Please use `rate` instead of `keep_prob`. Rate should be set to `rate = 1 - keep_prob`.\n",
      "W1210 11:36:22.462351   832 deprecation_wrapper.py:119] From c:\\anaconda3\\envs\\tensorflow_gpu\\lib\\site-packages\\keras\\optimizers.py:790: The name tf.train.Optimizer is deprecated. Please use tf.compat.v1.train.Optimizer instead.\n",
      "\n",
      "W1210 11:36:22.473342   832 deprecation_wrapper.py:119] From c:\\anaconda3\\envs\\tensorflow_gpu\\lib\\site-packages\\keras\\backend\\tensorflow_backend.py:3295: The name tf.log is deprecated. Please use tf.math.log instead.\n",
      "\n"
     ]
    },
    {
     "name": "stdout",
     "output_type": "stream",
     "text": [
      "_________________________________________________________________\n",
      "Layer (type)                 Output Shape              Param #   \n",
      "=================================================================\n",
      "conv2d_1 (Conv2D)            (None, 26, 26, 30)        300       \n",
      "_________________________________________________________________\n",
      "max_pooling2d_1 (MaxPooling2 (None, 13, 13, 30)        0         \n",
      "_________________________________________________________________\n",
      "flatten_1 (Flatten)          (None, 5070)              0         \n",
      "_________________________________________________________________\n",
      "dense_1 (Dense)              (None, 128)               649088    \n",
      "_________________________________________________________________\n",
      "dropout_1 (Dropout)          (None, 128)               0         \n",
      "_________________________________________________________________\n",
      "dense_2 (Dense)              (None, 27)                3483      \n",
      "=================================================================\n",
      "Total params: 652,871\n",
      "Trainable params: 652,871\n",
      "Non-trainable params: 0\n",
      "_________________________________________________________________\n",
      "None\n"
     ]
    },
    {
     "name": "stderr",
     "output_type": "stream",
     "text": [
      "W1210 11:36:23.078973   832 deprecation.py:323] From c:\\anaconda3\\envs\\tensorflow_gpu\\lib\\site-packages\\tensorflow\\python\\ops\\math_grad.py:1250: add_dispatch_support.<locals>.wrapper (from tensorflow.python.ops.array_ops) is deprecated and will be removed in a future version.\n",
      "Instructions for updating:\n",
      "Use tf.where in 2.0, which has the same broadcast rule as np.where\n"
     ]
    },
    {
     "name": "stdout",
     "output_type": "stream",
     "text": [
      "Train on 112320 samples, validate on 12480 samples\n",
      "Epoch 1/10\n",
      "112320/112320 [==============================] - 90s 803us/step - loss: 0.9339 - acc: 0.7271 - val_loss: 0.7205 - val_acc: 0.7970\n",
      "Epoch 2/10\n",
      "112320/112320 [==============================] - 40s 356us/step - loss: 0.8745 - acc: 0.7586 - val_loss: 0.6970 - val_acc: 0.8190\n",
      "Epoch 3/10\n",
      "112320/112320 [==============================] - 42s 370us/step - loss: 0.8541 - acc: 0.7675 - val_loss: 0.7038 - val_acc: 0.8145\n",
      "Epoch 4/10\n",
      "112320/112320 [==============================] - 45s 401us/step - loss: 0.8596 - acc: 0.7731 - val_loss: 0.6476 - val_acc: 0.8148\n",
      "Epoch 5/10\n",
      "112320/112320 [==============================] - 50s 444us/step - loss: 0.8602 - acc: 0.7760 - val_loss: 0.8751 - val_acc: 0.7971\n",
      "Epoch 6/10\n",
      "112320/112320 [==============================] - 53s 469us/step - loss: 0.8739 - acc: 0.7778 - val_loss: 0.7446 - val_acc: 0.8253\n",
      "Epoch 7/10\n",
      "112320/112320 [==============================] - 52s 462us/step - loss: 0.9095 - acc: 0.7725 - val_loss: 0.7557 - val_acc: 0.8196\n",
      "Epoch 8/10\n",
      "112320/112320 [==============================] - 57s 508us/step - loss: 0.9195 - acc: 0.7694 - val_loss: 0.7816 - val_acc: 0.7978\n",
      "Epoch 9/10\n",
      "112320/112320 [==============================] - 53s 469us/step - loss: 0.9672 - acc: 0.7664 - val_loss: 0.9584 - val_acc: 0.8283\n",
      "Epoch 10/10\n",
      "112320/112320 [==============================] - 49s 435us/step - loss: 0.9837 - acc: 0.7640 - val_loss: 0.8678 - val_acc: 0.8129\n"
     ]
    }
   ],
   "source": [
    "model = Sequential()\n",
    "model.add(Conv2D(30, kernel_size=(3,3), input_shape=(28,28,1)))\n",
    "model.add(MaxPooling2D(pool_size=(2, 2)))\n",
    "model.add(Flatten()) # Flattening the 2D arrays for fully connected layers\n",
    "model.add(Dense(128, activation='relu'))\n",
    "model.add(Dropout(0.2))\n",
    "model.add(Dense(27,activation='softmax'))\n",
    "model.compile(Adam(lr=0.01), #lr: learning rate\n",
    "            loss='categorical_crossentropy', #loss function\n",
    "           metrics=['accuracy'])\n",
    "print(model.summary())\n",
    "\n",
    "history = model.fit(X_train, y_train, validation_split=0.1, epochs=10, batch_size=50, \n",
    "                    verbose=1, shuffle=1)"
   ]
  },
  {
   "cell_type": "code",
   "execution_count": 0,
   "metadata": {
    "colab": {
     "base_uri": "https://localhost:8080/",
     "height": 313
    },
    "colab_type": "code",
    "executionInfo": {
     "elapsed": 1332,
     "status": "ok",
     "timestamp": 1575955399896,
     "user": {
      "displayName": "SAMIR JAIN",
      "photoUrl": "https://lh3.googleusercontent.com/a-/AAuE7mDriPQc7R2A1wmlgRE0cCj2kaA0bs8EKtw4R_4P=s64",
      "userId": "08037377963432111411"
     },
     "user_tz": -330
    },
    "id": "j4KBLdYPLWii",
    "outputId": "42b8acbd-5f74-4ae3-8fef-5a27c55cd782"
   },
   "outputs": [
    {
     "data": {
      "text/plain": [
       "Text(0.5, 0, 'epoch')"
      ]
     },
     "execution_count": 55,
     "metadata": {
      "tags": []
     },
     "output_type": "execute_result"
    },
    {
     "data": {
      "image/png": "[encoded data removed]",
      "text/plain": [
       "<Figure size 432x288 with 1 Axes>"
      ]
     },
     "metadata": {
      "tags": []
     },
     "output_type": "display_data"
    }
   ],
   "source": [
    "plt.plot(history.history['loss'])\n",
    "plt.plot(history.history['val_loss'])\n",
    "plt.legend(['loss', 'val_loss'])\n",
    "plt.title('Loss')\n",
    "plt.xlabel('epoch')"
   ]
  },
  {
   "cell_type": "code",
   "execution_count": 0,
   "metadata": {
    "colab": {
     "base_uri": "https://localhost:8080/",
     "height": 313
    },
    "colab_type": "code",
    "executionInfo": {
     "elapsed": 1312,
     "status": "ok",
     "timestamp": 1575955411932,
     "user": {
      "displayName": "SAMIR JAIN",
      "photoUrl": "https://lh3.googleusercontent.com/a-/AAuE7mDriPQc7R2A1wmlgRE0cCj2kaA0bs8EKtw4R_4P=s64",
      "userId": "08037377963432111411"
     },
     "user_tz": -330
    },
    "id": "VXE8_5kxQp_X",
    "outputId": "6c361f6c-b06d-4811-8224-3d7f748e1b82"
   },
   "outputs": [
    {
     "data": {
      "text/plain": [
       "Text(0.5, 0, 'epoch')"
      ]
     },
     "execution_count": 56,
     "metadata": {
      "tags": []
     },
     "output_type": "execute_result"
    },
    {
     "data": {
      "image/png": "[encoded data removed]",
      "text/plain": [
       "<Figure size 432x288 with 1 Axes>"
      ]
     },
     "metadata": {
      "tags": []
     },
     "output_type": "display_data"
    }
   ],
   "source": [
    "plt.plot(history.history['acc'])\n",
    "plt.plot(history.history['val_acc'])\n",
    "plt.legend(['acc', 'val_acc'])\n",
    "plt.title('Accuracy')\n",
    "plt.xlabel('epoch')"
   ]
  },
  {
   "cell_type": "code",
   "execution_count": 0,
   "metadata": {
    "colab": {
     "base_uri": "https://localhost:8080/",
     "height": 35
    },
    "colab_type": "code",
    "executionInfo": {
     "elapsed": 1373,
     "status": "ok",
     "timestamp": 1575955439155,
     "user": {
      "displayName": "SAMIR JAIN",
      "photoUrl": "https://lh3.googleusercontent.com/a-/AAuE7mDriPQc7R2A1wmlgRE0cCj2kaA0bs8EKtw4R_4P=s64",
      "userId": "08037377963432111411"
     },
     "user_tz": -330
    },
    "id": "JoGfALuQQTN6",
    "outputId": "a7072c1a-a1df-46f4-dbbc-933998e0058c"
   },
   "outputs": [
    {
     "data": {
      "text/plain": [
       "(20800, 784)"
      ]
     },
     "execution_count": 58,
     "metadata": {
      "tags": []
     },
     "output_type": "execute_result"
    }
   ],
   "source": [
    "X_test.shape"
   ]
  },
  {
   "cell_type": "code",
   "execution_count": 0,
   "metadata": {
    "colab": {},
    "colab_type": "code",
    "id": "vRLmXNcRQOr6"
   },
   "outputs": [],
   "source": [
    "X_test=X_test.reshape(20800,28,28,1)"
   ]
  },
  {
   "cell_type": "code",
   "execution_count": 0,
   "metadata": {
    "colab": {
     "base_uri": "https://localhost:8080/",
     "height": 54
    },
    "colab_type": "code",
    "executionInfo": {
     "elapsed": 4631,
     "status": "ok",
     "timestamp": 1575955482492,
     "user": {
      "displayName": "SAMIR JAIN",
      "photoUrl": "https://lh3.googleusercontent.com/a-/AAuE7mDriPQc7R2A1wmlgRE0cCj2kaA0bs8EKtw4R_4P=s64",
      "userId": "08037377963432111411"
     },
     "user_tz": -330
    },
    "id": "ZYGYtOYgLWik",
    "outputId": "33338cd1-2c97-4864-f417-0fe29fc770bb"
   },
   "outputs": [
    {
     "name": "stdout",
     "output_type": "stream",
     "text": [
      "20800/20800 [==============================] - 4s 190us/step\n"
     ]
    },
    {
     "data": {
      "text/plain": [
       "[0.9290183062561286, 0.7679807692307692]"
      ]
     },
     "execution_count": 61,
     "metadata": {
      "tags": []
     },
     "output_type": "execute_result"
    }
   ],
   "source": [
    "model.evaluate(X_test,y_test)"
   ]
  }
 ],
 "metadata": {
  "accelerator": "GPU",
  "colab": {
   "collapsed_sections": [],
   "name": "character_recognition.ipynb",
   "provenance": []
  },
  "kernelspec": {
   "display_name": "Python 3",
   "language": "python",
   "name": "python3"
  },
  "language_info": {
   "codemirror_mode": {
    "name": "ipython",
    "version": 3
   },
   "file_extension": ".py",
   "mimetype": "text/x-python",
   "name": "python",
   "nbconvert_exporter": "python",
   "pygments_lexer": "ipython3",
   "version": "3.7.5"
  }
 },
 "nbformat": 4,
 "nbformat_minor": 1
}
