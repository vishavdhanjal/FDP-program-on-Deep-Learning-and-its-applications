{
 "cells": [
  {
   "cell_type": "markdown",
   "metadata": {},
   "source": [
    "# Deep Learning and Applications : Joint Faculty Development Programme\n",
    "# December 9 -13, 2019 \n",
    "\n",
    "**Principal Coordinator - IIITDM Jabalpur Co-Principal Coordinator - NIT Warangal**\n",
    "\n",
    "**Particiapting Academies - IIITDM Jabalpur, MNIT Jaipur, NIT Patna, NIT Warangal**\n"
   ]
  },
  {
   "cell_type": "markdown",
   "metadata": {
    "colab_type": "text",
    "id": "1sViy8pKjam3"
   },
   "source": [
    "## Tutorial 6 - Recurrent Neural Networks and Artificial Neural Network on Text Data\n",
    "\n",
    "\n"
   ]
  },
  {
   "cell_type": "markdown",
   "metadata": {},
   "source": [
    "### A. RNN"
   ]
  },
  {
   "cell_type": "markdown",
   "metadata": {
    "colab_type": "text",
    "id": "YN9psFdMjam4"
   },
   "source": [
    "**A1. Importing the libraries**"
   ]
  },
  {
   "cell_type": "code",
   "execution_count": 1,
   "metadata": {
    "colab": {
     "base_uri": "https://localhost:8080/",
     "height": 34
    },
    "colab_type": "code",
    "executionInfo": {
     "elapsed": 3045,
     "status": "ok",
     "timestamp": 1568964316496,
     "user": {
      "displayName": "Kumar Ashish",
      "photoUrl": "https://lh3.googleusercontent.com/a-/AAuE7mB0TsD83vvQwhQszrnWDnCIgVPMwiCjXIMM4u7U=s64",
      "userId": "09647980491139642149"
     },
     "user_tz": -330
    },
    "id": "pN9UAyb4QbEA",
    "outputId": "495f6808-c396-4bb0-faf2-6e4d7fe583b2"
   },
   "outputs": [
    {
     "name": "stderr",
     "output_type": "stream",
     "text": [
      "Using TensorFlow backend.\n"
     ]
    }
   ],
   "source": [
    "import pandas as pd\n",
    "import keras\n",
    "from keras.preprocessing.text import Tokenizer\n",
    "from keras.preprocessing.sequence import pad_sequences\n",
    "from sklearn.model_selection import train_test_split\n",
    "import numpy as np"
   ]
  },
  {
   "cell_type": "markdown",
   "metadata": {
    "colab_type": "text",
    "id": "yUHE5A6_jam7"
   },
   "source": [
    "**A2. Reading the data**"
   ]
  },
  {
   "cell_type": "code",
   "execution_count": 2,
   "metadata": {
    "colab": {},
    "colab_type": "code",
    "id": "2R7xYOovQ0rN"
   },
   "outputs": [
    {
     "data": {
      "text/html": [
       "<div>\n",
       "<style scoped>\n",
       "    .dataframe tbody tr th:only-of-type {\n",
       "        vertical-align: middle;\n",
       "    }\n",
       "\n",
       "    .dataframe tbody tr th {\n",
       "        vertical-align: top;\n",
       "    }\n",
       "\n",
       "    .dataframe thead th {\n",
       "        text-align: right;\n",
       "    }\n",
       "</style>\n",
       "<table border=\"1\" class=\"dataframe\">\n",
       "  <thead>\n",
       "    <tr style=\"text-align: right;\">\n",
       "      <th></th>\n",
       "      <th>Review_Text</th>\n",
       "      <th>Sentiment</th>\n",
       "    </tr>\n",
       "  </thead>\n",
       "  <tbody>\n",
       "    <tr>\n",
       "      <th>0</th>\n",
       "      <td>Its really nice place to stay especially for b...</td>\n",
       "      <td>3</td>\n",
       "    </tr>\n",
       "    <tr>\n",
       "      <th>1</th>\n",
       "      <td>It seems that hotel does not check the basic a...</td>\n",
       "      <td>1</td>\n",
       "    </tr>\n",
       "    <tr>\n",
       "      <th>2</th>\n",
       "      <td>Worst hotel I have ever encountered. I will ne...</td>\n",
       "      <td>1</td>\n",
       "    </tr>\n",
       "    <tr>\n",
       "      <th>3</th>\n",
       "      <td>Had a good time in this hotel and the staff Ku...</td>\n",
       "      <td>3</td>\n",
       "    </tr>\n",
       "    <tr>\n",
       "      <th>4</th>\n",
       "      <td>good hotel and staff Veg food good non veg bre...</td>\n",
       "      <td>3</td>\n",
       "    </tr>\n",
       "  </tbody>\n",
       "</table>\n",
       "</div>"
      ],
      "text/plain": [
       "                                         Review_Text Sentiment\n",
       "0  Its really nice place to stay especially for b...         3\n",
       "1  It seems that hotel does not check the basic a...         1\n",
       "2  Worst hotel I have ever encountered. I will ne...         1\n",
       "3  Had a good time in this hotel and the staff Ku...         3\n",
       "4  good hotel and staff Veg food good non veg bre...         3"
      ]
     },
     "execution_count": 2,
     "metadata": {},
     "output_type": "execute_result"
    }
   ],
   "source": [
    "df = pd.read_csv('chennai_reviews.csv', sep=',', header=0)\n",
    "df = df[['Review_Text', 'Sentiment']].copy()\n",
    "df.head()"
   ]
  },
  {
   "cell_type": "markdown",
   "metadata": {
    "colab_type": "text",
    "id": "_oc4iXuWjam-"
   },
   "source": [
    "**A3. Data Preprocessing**"
   ]
  },
  {
   "cell_type": "code",
   "execution_count": 3,
   "metadata": {
    "colab": {},
    "colab_type": "code",
    "id": "X9jQgvnrcsCq"
   },
   "outputs": [],
   "source": [
    "df['Sentiment'] = pd.to_numeric(df.Sentiment, errors= 'coerce').dropna().astype(int)"
   ]
  },
  {
   "cell_type": "code",
   "execution_count": 4,
   "metadata": {
    "colab": {
     "base_uri": "https://localhost:8080/",
     "height": 85
    },
    "colab_type": "code",
    "executionInfo": {
     "elapsed": 1131,
     "status": "ok",
     "timestamp": 1568964326343,
     "user": {
      "displayName": "Kumar Ashish",
      "photoUrl": "https://lh3.googleusercontent.com/a-/AAuE7mB0TsD83vvQwhQszrnWDnCIgVPMwiCjXIMM4u7U=s64",
      "userId": "09647980491139642149"
     },
     "user_tz": -330
    },
    "id": "81sE8hQ4dOc4",
    "outputId": "4e497486-2d96-4c8e-b96d-eab1073985e1"
   },
   "outputs": [
    {
     "data": {
      "text/plain": [
       "3.0    3391\n",
       "2.0     827\n",
       "1.0     485\n",
       "Name: Sentiment, dtype: int64"
      ]
     },
     "execution_count": 4,
     "metadata": {},
     "output_type": "execute_result"
    }
   ],
   "source": [
    "df['Sentiment'].value_counts()"
   ]
  },
  {
   "cell_type": "code",
   "execution_count": 5,
   "metadata": {
    "colab": {},
    "colab_type": "code",
    "id": "nPCiNghJKZX4"
   },
   "outputs": [],
   "source": [
    "df['Sentiment'] = [1 if x > 2 else 0 for x in df.Sentiment]"
   ]
  },
  {
   "cell_type": "code",
   "execution_count": 6,
   "metadata": {
    "colab": {
     "base_uri": "https://localhost:8080/",
     "height": 68
    },
    "colab_type": "code",
    "executionInfo": {
     "elapsed": 1033,
     "status": "ok",
     "timestamp": 1568964331048,
     "user": {
      "displayName": "Kumar Ashish",
      "photoUrl": "https://lh3.googleusercontent.com/a-/AAuE7mB0TsD83vvQwhQszrnWDnCIgVPMwiCjXIMM4u7U=s64",
      "userId": "09647980491139642149"
     },
     "user_tz": -330
    },
    "id": "xNpnqe3ALSkX",
    "outputId": "5a977963-66db-4b76-fbb0-ad193799dd73"
   },
   "outputs": [
    {
     "data": {
      "text/plain": [
       "1    3391\n",
       "0    1377\n",
       "Name: Sentiment, dtype: int64"
      ]
     },
     "execution_count": 6,
     "metadata": {},
     "output_type": "execute_result"
    }
   ],
   "source": [
    "df['Sentiment'].value_counts()"
   ]
  },
  {
   "cell_type": "code",
   "execution_count": 7,
   "metadata": {
    "colab": {},
    "colab_type": "code",
    "id": "YQqH56cvLkA5"
   },
   "outputs": [],
   "source": [
    "data, labels = (df['Review_Text'].astype(str).values, df['Sentiment'].values)"
   ]
  },
  {
   "cell_type": "code",
   "execution_count": 8,
   "metadata": {
    "colab": {},
    "colab_type": "code",
    "id": "uXrKXaWQMD9W"
   },
   "outputs": [],
   "source": [
    "tokenizer = Tokenizer(lower= True)\n",
    "tokenizer.fit_on_texts(data)\n",
    "\n",
    "data_sequence = tokenizer.texts_to_sequences(data)\n",
    "data_padded = pad_sequences(data_sequence, maxlen= 100, padding='post')"
   ]
  },
  {
   "cell_type": "markdown",
   "metadata": {
    "colab_type": "text",
    "id": "K-IJDjd4janL"
   },
   "source": [
    "**A4. Splitting the data in train test**"
   ]
  },
  {
   "cell_type": "code",
   "execution_count": 9,
   "metadata": {
    "colab": {},
    "colab_type": "code",
    "id": "o33_7eXFODSb"
   },
   "outputs": [],
   "source": [
    "data_train, data_test, labels_train, labels_test = train_test_split(data_padded, labels, test_size= 0.15, random_state= 1)"
   ]
  },
  {
   "cell_type": "code",
   "execution_count": 10,
   "metadata": {
    "colab": {},
    "colab_type": "code",
    "id": "2OTCr0IuPjfD"
   },
   "outputs": [],
   "source": [
    "batch_size = 64\n",
    "\n",
    "data_train_split = data_train[2*batch_size:]\n",
    "labels_train_split = labels_train[2*batch_size:]\n",
    "\n",
    "data_validation_split = data_train[:2*batch_size]\n",
    "labels_validation_split = labels_train[:2*batch_size]\n"
   ]
  },
  {
   "cell_type": "markdown",
   "metadata": {
    "colab_type": "text",
    "id": "Vg_DoRhPjanS"
   },
   "source": [
    "**A5. Model Building**"
   ]
  },
  {
   "cell_type": "code",
   "execution_count": 15,
   "metadata": {
    "colab": {
     "base_uri": "https://localhost:8080/",
     "height": 139
    },
    "colab_type": "code",
    "executionInfo": {
     "elapsed": 887,
     "status": "ok",
     "timestamp": 1568964345635,
     "user": {
      "displayName": "Kumar Ashish",
      "photoUrl": "https://lh3.googleusercontent.com/a-/AAuE7mB0TsD83vvQwhQszrnWDnCIgVPMwiCjXIMM4u7U=s64",
      "userId": "09647980491139642149"
     },
     "user_tz": -330
    },
    "id": "dxjAKUYDjanT",
    "outputId": "78ced56d-7f7f-4af1-b4dc-def3611c79cc"
   },
   "outputs": [],
   "source": [
    "vocab_size = len(tokenizer.word_counts.keys())+1\n",
    "num_words = 100\n",
    "embedding_len = 32\n",
    "\n",
    "model = keras.models.Sequential([\n",
    "                                 keras.layers.Embedding(vocab_size, embedding_len, input_length= num_words),\n",
    "                                 keras.layers.GRU(64),\n",
    "                                 keras.layers.Dense(1, activation= 'sigmoid')\n",
    "])"
   ]
  },
  {
   "cell_type": "markdown",
   "metadata": {
    "colab_type": "text",
    "id": "WEEh8GsOjanV"
   },
   "source": [
    "**A6. Model Compiling**"
   ]
  },
  {
   "cell_type": "code",
   "execution_count": 16,
   "metadata": {
    "colab": {
     "base_uri": "https://localhost:8080/",
     "height": 156
    },
    "colab_type": "code",
    "executionInfo": {
     "elapsed": 1113,
     "status": "ok",
     "timestamp": 1568964350382,
     "user": {
      "displayName": "Kumar Ashish",
      "photoUrl": "https://lh3.googleusercontent.com/a-/AAuE7mB0TsD83vvQwhQszrnWDnCIgVPMwiCjXIMM4u7U=s64",
      "userId": "09647980491139642149"
     },
     "user_tz": -330
    },
    "id": "saMWuDuvUao3",
    "outputId": "7842b7ff-1204-415f-acfa-1d9da15d71ef"
   },
   "outputs": [
    {
     "name": "stdout",
     "output_type": "stream",
     "text": [
      "WARNING:tensorflow:From C:\\Users\\Poornima Singh\\Anaconda3\\envs\\tensorflow_gpu\\lib\\site-packages\\keras\\optimizers.py:790: The name tf.train.Optimizer is deprecated. Please use tf.compat.v1.train.Optimizer instead.\n",
      "\n",
      "WARNING:tensorflow:From C:\\Users\\Poornima Singh\\Anaconda3\\envs\\tensorflow_gpu\\lib\\site-packages\\keras\\backend\\tensorflow_backend.py:3376: The name tf.log is deprecated. Please use tf.math.log instead.\n",
      "\n",
      "WARNING:tensorflow:From C:\\Users\\Poornima Singh\\Anaconda3\\envs\\tensorflow_gpu\\lib\\site-packages\\tensorflow\\python\\ops\\nn_impl.py:180: add_dispatch_support.<locals>.wrapper (from tensorflow.python.ops.array_ops) is deprecated and will be removed in a future version.\n",
      "Instructions for updating:\n",
      "Use tf.where in 2.0, which has the same broadcast rule as np.where\n"
     ]
    }
   ],
   "source": [
    "model.compile(\n",
    "    optimizer= 'sgd',\n",
    "    loss= 'binary_crossentropy',\n",
    "    metrics= ['accuracy']\n",
    ")"
   ]
  },
  {
   "cell_type": "markdown",
   "metadata": {
    "colab_type": "text",
    "id": "Yy6a1wTYjanX"
   },
   "source": [
    "**A7. Training the model**"
   ]
  },
  {
   "cell_type": "code",
   "execution_count": 17,
   "metadata": {
    "colab": {
     "base_uri": "https://localhost:8080/",
     "height": 119
    },
    "colab_type": "code",
    "executionInfo": {
     "elapsed": 9350,
     "status": "ok",
     "timestamp": 1568964449433,
     "user": {
      "displayName": "Kumar Ashish",
      "photoUrl": "https://lh3.googleusercontent.com/a-/AAuE7mB0TsD83vvQwhQszrnWDnCIgVPMwiCjXIMM4u7U=s64",
      "userId": "09647980491139642149"
     },
     "user_tz": -330
    },
    "id": "uYEj8cioYKYz",
    "outputId": "816e10f1-56ef-4c4a-8585-57d0d58c2dff"
   },
   "outputs": [
    {
     "name": "stdout",
     "output_type": "stream",
     "text": [
      "WARNING:tensorflow:From C:\\Users\\Poornima Singh\\Anaconda3\\envs\\tensorflow_gpu\\lib\\site-packages\\keras\\backend\\tensorflow_backend.py:986: The name tf.assign_add is deprecated. Please use tf.compat.v1.assign_add instead.\n",
      "\n",
      "Train on 3924 samples, validate on 128 samples\n",
      "Epoch 1/2\n",
      "3924/3924 [==============================] - 27s 7ms/step - loss: 0.6555 - acc: 0.7169 - val_loss: 0.6494 - val_acc: 0.6641\n",
      "Epoch 2/2\n",
      "3924/3924 [==============================] - 22s 6ms/step - loss: 0.6177 - acc: 0.7169 - val_loss: 0.6394 - val_acc: 0.6641\n"
     ]
    },
    {
     "data": {
      "text/plain": [
       "<keras.callbacks.History at 0x26526f87788>"
      ]
     },
     "execution_count": 17,
     "metadata": {},
     "output_type": "execute_result"
    }
   ],
   "source": [
    "model.fit(\n",
    "    data_train_split,\n",
    "    labels_train_split,\n",
    "    batch_size= batch_size,\n",
    "    epochs= 2,\n",
    "    verbose= 1,\n",
    "    validation_data= (data_validation_split, labels_validation_split),\n",
    "   \n",
    ")"
   ]
  },
  {
   "cell_type": "markdown",
   "metadata": {
    "colab_type": "text",
    "id": "rxtdVbnzjanZ"
   },
   "source": [
    "**A8. Model Testing**"
   ]
  },
  {
   "cell_type": "code",
   "execution_count": 18,
   "metadata": {
    "colab": {
     "base_uri": "https://localhost:8080/",
     "height": 34
    },
    "colab_type": "code",
    "executionInfo": {
     "elapsed": 1308,
     "status": "ok",
     "timestamp": 1568964472234,
     "user": {
      "displayName": "Kumar Ashish",
      "photoUrl": "https://lh3.googleusercontent.com/a-/AAuE7mB0TsD83vvQwhQszrnWDnCIgVPMwiCjXIMM4u7U=s64",
      "userId": "09647980491139642149"
     },
     "user_tz": -330
    },
    "id": "GVtRc2SsZVmJ",
    "outputId": "4576659c-2c14-4e5c-e398-f6b75f592ea0"
   },
   "outputs": [
    {
     "data": {
      "text/plain": [
       "[0.6250772895759711, 0.6885474863665064]"
      ]
     },
     "execution_count": 18,
     "metadata": {},
     "output_type": "execute_result"
    }
   ],
   "source": [
    "scores = model.evaluate(data_test, labels_test, verbose= 0)\n",
    "scores"
   ]
  },
  {
   "cell_type": "markdown",
   "metadata": {
    "colab_type": "text",
    "id": "WBYYMSq4janb"
   },
   "source": [
    "### B. ANN"
   ]
  },
  {
   "cell_type": "code",
   "execution_count": 19,
   "metadata": {
    "colab": {},
    "colab_type": "code",
    "id": "5tWqvN59idH6"
   },
   "outputs": [],
   "source": [
    "from sklearn.utils import compute_class_weight\n",
    "classWeight = compute_class_weight('balanced', np.unique(labels_train), labels_train) \n",
    "classWeight = dict(enumerate(classWeight))"
   ]
  },
  {
   "cell_type": "code",
   "execution_count": 20,
   "metadata": {
    "colab": {
     "base_uri": "https://localhost:8080/",
     "height": 102
    },
    "colab_type": "code",
    "executionInfo": {
     "elapsed": 1569,
     "status": "ok",
     "timestamp": 1568964526044,
     "user": {
      "displayName": "Kumar Ashish",
      "photoUrl": "https://lh3.googleusercontent.com/a-/AAuE7mB0TsD83vvQwhQszrnWDnCIgVPMwiCjXIMM4u7U=s64",
      "userId": "09647980491139642149"
     },
     "user_tz": -330
    },
    "id": "XZE996HGnQBY",
    "outputId": "a13f62c3-817e-418d-cca2-a6c5d1f75026"
   },
   "outputs": [
    {
     "name": "stdout",
     "output_type": "stream",
     "text": [
      "Epoch 1/2\n",
      "3924/3924 [==============================] - 1s 272us/step - loss: 8.6644 - acc: 0.4590\n",
      "Epoch 2/2\n",
      "3924/3924 [==============================] - 0s 112us/step - loss: 10.8784 - acc: 0.3242\n"
     ]
    },
    {
     "data": {
      "text/plain": [
       "<keras.callbacks.History at 0x26597cfc988>"
      ]
     },
     "execution_count": 20,
     "metadata": {},
     "output_type": "execute_result"
    }
   ],
   "source": [
    "model1 = keras.models.Sequential([\n",
    "                                 #eras.layers.Embedding(vocab_size, embedding_len, input_length= num_words),\n",
    "                                 keras.layers.Dense(256),\n",
    "                                 keras.layers.Dense(1, activation= 'sigmoid')\n",
    "])\n",
    "\n",
    "model1.compile(\n",
    "    optimizer= 'sgd',\n",
    "    loss= 'binary_crossentropy',\n",
    "    metrics= ['accuracy']\n",
    ")\n",
    "\n",
    "model1.fit(\n",
    "    data_train_split,\n",
    "    labels_train_split,\n",
    "    batch_size= batch_size,\n",
    "    epochs= 2,\n",
    "    verbose= 1\n",
    ")\n"
   ]
  },
  {
   "cell_type": "code",
   "execution_count": null,
   "metadata": {
    "colab": {},
    "colab_type": "code",
    "id": "TS6aAEPMkrUS"
   },
   "outputs": [],
   "source": []
  }
 ],
 "metadata": {
  "colab": {
   "collapsed_sections": [],
   "name": "Sentiment_NN_RNN.ipynb",
   "provenance": [],
   "toc_visible": true
  },
  "kernelspec": {
   "display_name": "Python 3",
   "language": "python",
   "name": "python3"
  },
  "language_info": {
   "codemirror_mode": {
    "name": "ipython",
    "version": 3
   },
   "file_extension": ".py",
   "mimetype": "text/x-python",
   "name": "python",
   "nbconvert_exporter": "python",
   "pygments_lexer": "ipython3",
   "version": "3.7.4"
  }
 },
 "nbformat": 4,
 "nbformat_minor": 1
}
