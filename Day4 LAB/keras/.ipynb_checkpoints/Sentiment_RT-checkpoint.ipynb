{
 "cells": [
  {
   "cell_type": "markdown",
   "metadata": {
    "colab_type": "text",
    "id": "wmVqOBBdk0uA"
   },
   "source": [
    "# Deep Learning and Applications : Joint Faculty Development Programme\n",
    "# December 9 -13, 2019 \n",
    "\n",
    "**Principal Coordinator - IIITDM Jabalpur Co-Principal Coordinator - NIT Warangal**\n",
    "\n",
    "**Particiapting Academies - IIITDM Jabalpur, MNIT Jaipur, NIT Patna, NIT Warangal**\n"
   ]
  },
  {
   "cell_type": "markdown",
   "metadata": {
    "colab_type": "text",
    "id": "Cyvfnb-Ak0uB"
   },
   "source": [
    "## Tutorial 7 - Sentiment Analysis"
   ]
  },
  {
   "cell_type": "code",
   "execution_count": 1,
   "metadata": {
    "colab": {
     "base_uri": "https://localhost:8080/",
     "height": 34
    },
    "colab_type": "code",
    "executionInfo": {
     "elapsed": 3432,
     "status": "ok",
     "timestamp": 1568964866049,
     "user": {
      "displayName": "Kumar Ashish",
      "photoUrl": "https://lh3.googleusercontent.com/a-/AAuE7mB0TsD83vvQwhQszrnWDnCIgVPMwiCjXIMM4u7U=s64",
      "userId": "09647980491139642149"
     },
     "user_tz": -330
    },
    "id": "bMtRVdt8rGBs",
    "outputId": "eb5e8ea4-49d2-4878-b90d-6922a2bdf2c0"
   },
   "outputs": [
    {
     "name": "stderr",
     "output_type": "stream",
     "text": [
      "Using TensorFlow backend.\n",
      "C:\\Users\\Dhanjal\\AppData\\Local\\Continuum\\anaconda3\\envs\\tensorflow\\lib\\site-packages\\tensorflow\\python\\framework\\dtypes.py:516: FutureWarning: Passing (type, 1) or '1type' as a synonym of type is deprecated; in a future version of numpy, it will be understood as (type, (1,)) / '(1,)type'.\n",
      "  _np_qint8 = np.dtype([(\"qint8\", np.int8, 1)])\n",
      "C:\\Users\\Dhanjal\\AppData\\Local\\Continuum\\anaconda3\\envs\\tensorflow\\lib\\site-packages\\tensorflow\\python\\framework\\dtypes.py:517: FutureWarning: Passing (type, 1) or '1type' as a synonym of type is deprecated; in a future version of numpy, it will be understood as (type, (1,)) / '(1,)type'.\n",
      "  _np_quint8 = np.dtype([(\"quint8\", np.uint8, 1)])\n",
      "C:\\Users\\Dhanjal\\AppData\\Local\\Continuum\\anaconda3\\envs\\tensorflow\\lib\\site-packages\\tensorflow\\python\\framework\\dtypes.py:518: FutureWarning: Passing (type, 1) or '1type' as a synonym of type is deprecated; in a future version of numpy, it will be understood as (type, (1,)) / '(1,)type'.\n",
      "  _np_qint16 = np.dtype([(\"qint16\", np.int16, 1)])\n",
      "C:\\Users\\Dhanjal\\AppData\\Local\\Continuum\\anaconda3\\envs\\tensorflow\\lib\\site-packages\\tensorflow\\python\\framework\\dtypes.py:519: FutureWarning: Passing (type, 1) or '1type' as a synonym of type is deprecated; in a future version of numpy, it will be understood as (type, (1,)) / '(1,)type'.\n",
      "  _np_quint16 = np.dtype([(\"quint16\", np.uint16, 1)])\n",
      "C:\\Users\\Dhanjal\\AppData\\Local\\Continuum\\anaconda3\\envs\\tensorflow\\lib\\site-packages\\tensorflow\\python\\framework\\dtypes.py:520: FutureWarning: Passing (type, 1) or '1type' as a synonym of type is deprecated; in a future version of numpy, it will be understood as (type, (1,)) / '(1,)type'.\n",
      "  _np_qint32 = np.dtype([(\"qint32\", np.int32, 1)])\n",
      "C:\\Users\\Dhanjal\\AppData\\Local\\Continuum\\anaconda3\\envs\\tensorflow\\lib\\site-packages\\tensorflow\\python\\framework\\dtypes.py:525: FutureWarning: Passing (type, 1) or '1type' as a synonym of type is deprecated; in a future version of numpy, it will be understood as (type, (1,)) / '(1,)type'.\n",
      "  np_resource = np.dtype([(\"resource\", np.ubyte, 1)])\n",
      "C:\\Users\\Dhanjal\\AppData\\Local\\Continuum\\anaconda3\\envs\\tensorflow\\lib\\site-packages\\tensorboard\\compat\\tensorflow_stub\\dtypes.py:541: FutureWarning: Passing (type, 1) or '1type' as a synonym of type is deprecated; in a future version of numpy, it will be understood as (type, (1,)) / '(1,)type'.\n",
      "  _np_qint8 = np.dtype([(\"qint8\", np.int8, 1)])\n",
      "C:\\Users\\Dhanjal\\AppData\\Local\\Continuum\\anaconda3\\envs\\tensorflow\\lib\\site-packages\\tensorboard\\compat\\tensorflow_stub\\dtypes.py:542: FutureWarning: Passing (type, 1) or '1type' as a synonym of type is deprecated; in a future version of numpy, it will be understood as (type, (1,)) / '(1,)type'.\n",
      "  _np_quint8 = np.dtype([(\"quint8\", np.uint8, 1)])\n",
      "C:\\Users\\Dhanjal\\AppData\\Local\\Continuum\\anaconda3\\envs\\tensorflow\\lib\\site-packages\\tensorboard\\compat\\tensorflow_stub\\dtypes.py:543: FutureWarning: Passing (type, 1) or '1type' as a synonym of type is deprecated; in a future version of numpy, it will be understood as (type, (1,)) / '(1,)type'.\n",
      "  _np_qint16 = np.dtype([(\"qint16\", np.int16, 1)])\n",
      "C:\\Users\\Dhanjal\\AppData\\Local\\Continuum\\anaconda3\\envs\\tensorflow\\lib\\site-packages\\tensorboard\\compat\\tensorflow_stub\\dtypes.py:544: FutureWarning: Passing (type, 1) or '1type' as a synonym of type is deprecated; in a future version of numpy, it will be understood as (type, (1,)) / '(1,)type'.\n",
      "  _np_quint16 = np.dtype([(\"quint16\", np.uint16, 1)])\n",
      "C:\\Users\\Dhanjal\\AppData\\Local\\Continuum\\anaconda3\\envs\\tensorflow\\lib\\site-packages\\tensorboard\\compat\\tensorflow_stub\\dtypes.py:545: FutureWarning: Passing (type, 1) or '1type' as a synonym of type is deprecated; in a future version of numpy, it will be understood as (type, (1,)) / '(1,)type'.\n",
      "  _np_qint32 = np.dtype([(\"qint32\", np.int32, 1)])\n",
      "C:\\Users\\Dhanjal\\AppData\\Local\\Continuum\\anaconda3\\envs\\tensorflow\\lib\\site-packages\\tensorboard\\compat\\tensorflow_stub\\dtypes.py:550: FutureWarning: Passing (type, 1) or '1type' as a synonym of type is deprecated; in a future version of numpy, it will be understood as (type, (1,)) / '(1,)type'.\n",
      "  np_resource = np.dtype([(\"resource\", np.ubyte, 1)])\n"
     ]
    }
   ],
   "source": [
    "import pandas as pd\n",
    "\n",
    "from keras.preprocessing.text import Tokenizer\n",
    "from keras.preprocessing.sequence import pad_sequences\n",
    "from keras.utils import to_categorical\n",
    "\n",
    "from sklearn.model_selection import train_test_split\n",
    "\n",
    "import keras"
   ]
  },
  {
   "cell_type": "code",
   "execution_count": 2,
   "metadata": {
    "colab": {},
    "colab_type": "code",
    "id": "0hVosZT4w0hy"
   },
   "outputs": [],
   "source": [
    "MAX_FEATURES = 10000    #max words in vocab, optimal value could be vocab_size+1\n",
    "MAX_LENGTH = 125        #max sentence length after padding\n",
    "RANDOM_SEED = 1\n",
    "EMBEDDING_LENGTH = 100  #dimensions of a word_vect\n",
    "EPOCHS = 1\n",
    "BATCH_SIZE = 32"
   ]
  },
  {
   "cell_type": "code",
   "execution_count": 3,
   "metadata": {
    "colab": {},
    "colab_type": "code",
    "id": "13H9dJ9ssTIs"
   },
   "outputs": [],
   "source": [
    "train_df = pd.read_csv('train.tsv',  sep=\"\\t\")\n",
    "test_df = pd.read_csv('test.tsv',  sep=\"\\t\")"
   ]
  },
  {
   "cell_type": "code",
   "execution_count": 4,
   "metadata": {
    "colab": {
     "base_uri": "https://localhost:8080/",
     "height": 204
    },
    "colab_type": "code",
    "executionInfo": {
     "elapsed": 1398,
     "status": "ok",
     "timestamp": 1568964875307,
     "user": {
      "displayName": "Kumar Ashish",
      "photoUrl": "https://lh3.googleusercontent.com/a-/AAuE7mB0TsD83vvQwhQszrnWDnCIgVPMwiCjXIMM4u7U=s64",
      "userId": "09647980491139642149"
     },
     "user_tz": -330
    },
    "id": "_e53tESFsZMU",
    "outputId": "01c8302c-1518-4aa0-f33f-3a0b617885a8"
   },
   "outputs": [
    {
     "data": {
      "text/plain": [
       "Index(['PhraseId', 'SentenceId', 'Phrase', 'Sentiment'], dtype='object')"
      ]
     },
     "execution_count": 4,
     "metadata": {},
     "output_type": "execute_result"
    }
   ],
   "source": [
    "train_df.columns"
   ]
  },
  {
   "cell_type": "code",
   "execution_count": 5,
   "metadata": {
    "colab": {
     "base_uri": "https://localhost:8080/",
     "height": 51
    },
    "colab_type": "code",
    "executionInfo": {
     "elapsed": 786,
     "status": "ok",
     "timestamp": 1568964877411,
     "user": {
      "displayName": "Kumar Ashish",
      "photoUrl": "https://lh3.googleusercontent.com/a-/AAuE7mB0TsD83vvQwhQszrnWDnCIgVPMwiCjXIMM4u7U=s64",
      "userId": "09647980491139642149"
     },
     "user_tz": -330
    },
    "id": "yIJHQNQ2scbs",
    "outputId": "a06bdaf8-1c17-4f57-9670-8e522ab7acd1"
   },
   "outputs": [
    {
     "name": "stdout",
     "output_type": "stream",
     "text": [
      "(156060, 4)\n",
      "(66292, 3)\n"
     ]
    }
   ],
   "source": [
    "print(train_df.shape)\n",
    "print(test_df.shape)"
   ]
  },
  {
   "cell_type": "code",
   "execution_count": 6,
   "metadata": {
    "colab": {
     "base_uri": "https://localhost:8080/",
     "height": 34
    },
    "colab_type": "code",
    "executionInfo": {
     "elapsed": 1412,
     "status": "ok",
     "timestamp": 1568964881030,
     "user": {
      "displayName": "Kumar Ashish",
      "photoUrl": "https://lh3.googleusercontent.com/a-/AAuE7mB0TsD83vvQwhQszrnWDnCIgVPMwiCjXIMM4u7U=s64",
      "userId": "09647980491139642149"
     },
     "user_tz": -330
    },
    "id": "E968jkgSsk99",
    "outputId": "0ea98e53-12a4-40c6-bf0f-71eb44d68e9a"
   },
   "outputs": [
    {
     "data": {
      "text/plain": [
       "283"
      ]
     },
     "execution_count": 6,
     "metadata": {},
     "output_type": "execute_result"
    }
   ],
   "source": [
    "train_df['Phrase'].str.len().max()"
   ]
  },
  {
   "cell_type": "code",
   "execution_count": 7,
   "metadata": {
    "colab": {
     "base_uri": "https://localhost:8080/",
     "height": 34
    },
    "colab_type": "code",
    "executionInfo": {
     "elapsed": 986,
     "status": "ok",
     "timestamp": 1568964882783,
     "user": {
      "displayName": "Kumar Ashish",
      "photoUrl": "https://lh3.googleusercontent.com/a-/AAuE7mB0TsD83vvQwhQszrnWDnCIgVPMwiCjXIMM4u7U=s64",
      "userId": "09647980491139642149"
     },
     "user_tz": -330
    },
    "id": "cQhLHlRrtF6b",
    "outputId": "47cd8fe1-ecf9-408f-9894-64708d64d690"
   },
   "outputs": [
    {
     "data": {
      "text/plain": [
       "40.217224144559786"
      ]
     },
     "execution_count": 7,
     "metadata": {},
     "output_type": "execute_result"
    }
   ],
   "source": [
    "train_df['Phrase'].str.len().mean()"
   ]
  },
  {
   "cell_type": "code",
   "execution_count": 8,
   "metadata": {
    "colab": {
     "base_uri": "https://localhost:8080/",
     "height": 697
    },
    "colab_type": "code",
    "executionInfo": {
     "elapsed": 1409,
     "status": "error",
     "timestamp": 1568964885417,
     "user": {
      "displayName": "Kumar Ashish",
      "photoUrl": "https://lh3.googleusercontent.com/a-/AAuE7mB0TsD83vvQwhQszrnWDnCIgVPMwiCjXIMM4u7U=s64",
      "userId": "09647980491139642149"
     },
     "user_tz": -330
    },
    "id": "PptQ5emBtKQM",
    "outputId": "35a92111-6ffb-402c-9b7a-11f9d78d4931"
   },
   "outputs": [
    {
     "data": {
      "text/plain": [
       "2    79582\n",
       "3    32927\n",
       "1    27273\n",
       "4     9206\n",
       "0     7072\n",
       "Name: Sentiment, dtype: int64"
      ]
     },
     "execution_count": 8,
     "metadata": {},
     "output_type": "execute_result"
    }
   ],
   "source": [
    "train_df['Sentiment'].value_counts()"
   ]
  },
  {
   "cell_type": "code",
   "execution_count": 9,
   "metadata": {
    "colab": {},
    "colab_type": "code",
    "id": "MGZs1MDctuts"
   },
   "outputs": [],
   "source": [
    "#Preprocessing\n",
    "\n",
    "#shuffle data\n",
    "train_df = train_df.sample(frac=1).reset_index(drop=True)\n",
    "\n",
    "#Lowercase\n",
    "train_df['Phrase'] = train_df['Phrase'].apply(lambda c: c.lower())\n",
    "test_df['Phrase'] = test_df['Phrase'].apply(lambda c: c.lower())"
   ]
  },
  {
   "cell_type": "code",
   "execution_count": 10,
   "metadata": {
    "colab": {
     "base_uri": "https://localhost:8080/",
     "height": 697
    },
    "colab_type": "code",
    "executionInfo": {
     "elapsed": 2352,
     "status": "error",
     "timestamp": 1568964936130,
     "user": {
      "displayName": "Kumar Ashish",
      "photoUrl": "https://lh3.googleusercontent.com/a-/AAuE7mB0TsD83vvQwhQszrnWDnCIgVPMwiCjXIMM4u7U=s64",
      "userId": "09647980491139642149"
     },
     "user_tz": -330
    },
    "id": "SStbv2Evt_OM",
    "outputId": "2863cd25-6a1a-46a8-8633-8ff5f443ab2a"
   },
   "outputs": [],
   "source": [
    "#Converting labels to categorical\n",
    "data_train = train_df['Phrase']\n",
    "data_test = test_df['Phrase']\n",
    "labels_train = to_categorical(train_df['Sentiment'].values)"
   ]
  },
  {
   "cell_type": "code",
   "execution_count": 11,
   "metadata": {
    "colab": {},
    "colab_type": "code",
    "id": "RSRJHohiurJK"
   },
   "outputs": [],
   "source": [
    "#tokenizatin and fitting it on data\n",
    "tokenizer = Tokenizer(num_words= MAX_FEATURES)\n",
    "tokenizer.fit_on_texts(list(data_train))\n",
    "\n",
    "# Converting data to int_sequences and padding\n",
    "data_train = tokenizer.texts_to_sequences(data_train)\n",
    "data_train = pad_sequences(data_train, maxlen= MAX_LENGTH)\n",
    "\n",
    "data_test = tokenizer.texts_to_sequences(data_test)\n",
    "data_test = pad_sequences(data_test, maxlen= MAX_LENGTH)"
   ]
  },
  {
   "cell_type": "code",
   "execution_count": 12,
   "metadata": {
    "colab": {
     "base_uri": "https://localhost:8080/",
     "height": 34
    },
    "colab_type": "code",
    "executionInfo": {
     "elapsed": 2923,
     "status": "ok",
     "timestamp": 1568964950355,
     "user": {
      "displayName": "Kumar Ashish",
      "photoUrl": "https://lh3.googleusercontent.com/a-/AAuE7mB0TsD83vvQwhQszrnWDnCIgVPMwiCjXIMM4u7U=s64",
      "userId": "09647980491139642149"
     },
     "user_tz": -330
    },
    "id": "Ptt6Mg1Lvnxr",
    "outputId": "a1be9497-ae3b-4f17-cd16-22941f502eaf"
   },
   "outputs": [
    {
     "data": {
      "text/plain": [
       "(156060, 125)"
      ]
     },
     "execution_count": 12,
     "metadata": {},
     "output_type": "execute_result"
    }
   ],
   "source": [
    "data_train.shape"
   ]
  },
  {
   "cell_type": "code",
   "execution_count": 13,
   "metadata": {
    "colab": {
     "base_uri": "https://localhost:8080/",
     "height": 163
    },
    "colab_type": "code",
    "executionInfo": {
     "elapsed": 4035,
     "status": "error",
     "timestamp": 1568964955475,
     "user": {
      "displayName": "Kumar Ashish",
      "photoUrl": "https://lh3.googleusercontent.com/a-/AAuE7mB0TsD83vvQwhQszrnWDnCIgVPMwiCjXIMM4u7U=s64",
      "userId": "09647980491139642149"
     },
     "user_tz": -330
    },
    "id": "55V8bAYPwL17",
    "outputId": "9a0b27d1-b7a6-473e-9b51-3227e22d3d3b"
   },
   "outputs": [
    {
     "data": {
      "text/plain": [
       "(156060, 5)"
      ]
     },
     "execution_count": 13,
     "metadata": {},
     "output_type": "execute_result"
    }
   ],
   "source": [
    "labels_train.shape"
   ]
  },
  {
   "cell_type": "code",
   "execution_count": 14,
   "metadata": {
    "colab": {},
    "colab_type": "code",
    "id": "OGZnHa-DwRfj"
   },
   "outputs": [],
   "source": [
    "X_train, X_val, Y_train, Y_val = train_test_split(data_train, labels_train, test_size= 0.15, random_state= RANDOM_SEED)"
   ]
  },
  {
   "cell_type": "code",
   "execution_count": 15,
   "metadata": {
    "colab": {
     "base_uri": "https://localhost:8080/",
     "height": 547
    },
    "colab_type": "code",
    "id": "ZxexeuHBxgFf",
    "outputId": "849a81cf-3a02-4750-c8bc-dfefee56eb2e"
   },
   "outputs": [
    {
     "name": "stdout",
     "output_type": "stream",
     "text": [
      "WARNING:tensorflow:From C:\\Users\\Dhanjal\\AppData\\Local\\Continuum\\anaconda3\\envs\\tensorflow\\lib\\site-packages\\keras\\backend\\tensorflow_backend.py:74: The name tf.get_default_graph is deprecated. Please use tf.compat.v1.get_default_graph instead.\n",
      "\n",
      "WARNING:tensorflow:From C:\\Users\\Dhanjal\\AppData\\Local\\Continuum\\anaconda3\\envs\\tensorflow\\lib\\site-packages\\keras\\backend\\tensorflow_backend.py:517: The name tf.placeholder is deprecated. Please use tf.compat.v1.placeholder instead.\n",
      "\n",
      "WARNING:tensorflow:From C:\\Users\\Dhanjal\\AppData\\Local\\Continuum\\anaconda3\\envs\\tensorflow\\lib\\site-packages\\keras\\backend\\tensorflow_backend.py:4138: The name tf.random_uniform is deprecated. Please use tf.random.uniform instead.\n",
      "\n",
      "WARNING:tensorflow:From C:\\Users\\Dhanjal\\AppData\\Local\\Continuum\\anaconda3\\envs\\tensorflow\\lib\\site-packages\\keras\\backend\\tensorflow_backend.py:133: The name tf.placeholder_with_default is deprecated. Please use tf.compat.v1.placeholder_with_default instead.\n",
      "\n",
      "WARNING:tensorflow:From C:\\Users\\Dhanjal\\AppData\\Local\\Continuum\\anaconda3\\envs\\tensorflow\\lib\\site-packages\\keras\\backend\\tensorflow_backend.py:3445: calling dropout (from tensorflow.python.ops.nn_ops) with keep_prob is deprecated and will be removed in a future version.\n",
      "Instructions for updating:\n",
      "Please use `rate` instead of `keep_prob`. Rate should be set to `rate = 1 - keep_prob`.\n",
      "WARNING:tensorflow:From C:\\Users\\Dhanjal\\AppData\\Local\\Continuum\\anaconda3\\envs\\tensorflow\\lib\\site-packages\\keras\\backend\\tensorflow_backend.py:2974: add_dispatch_support.<locals>.wrapper (from tensorflow.python.ops.array_ops) is deprecated and will be removed in a future version.\n",
      "Instructions for updating:\n",
      "Use tf.where in 2.0, which has the same broadcast rule as np.where\n",
      "_________________________________________________________________\n",
      "Layer (type)                 Output Shape              Param #   \n",
      "=================================================================\n",
      "embedding_1 (Embedding)      (None, None, 100)         1000000   \n",
      "_________________________________________________________________\n",
      "lstm_1 (LSTM)                (None, None, 64)          42240     \n",
      "_________________________________________________________________\n",
      "lstm_2 (LSTM)                (None, 32)                12416     \n",
      "_________________________________________________________________\n",
      "dense_1 (Dense)              (None, 5)                 165       \n",
      "=================================================================\n",
      "Total params: 1,054,821\n",
      "Trainable params: 1,054,821\n",
      "Non-trainable params: 0\n",
      "_________________________________________________________________\n"
     ]
    }
   ],
   "source": [
    "model = keras.models.Sequential([\n",
    "                                 keras.layers.Embedding(MAX_FEATURES, EMBEDDING_LENGTH, mask_zero= True),\n",
    "                                 keras.layers.LSTM(64,dropout= 0.4, recurrent_dropout= 0.4,return_sequences=True),\n",
    "                                 keras.layers.LSTM(32,dropout= 0.5, recurrent_dropout= 0.5,return_sequences=False),\n",
    "                                 keras.layers.Dense(5, activation= 'sigmoid')\n",
    "])\n",
    "\n",
    "model.summary()"
   ]
  },
  {
   "cell_type": "code",
   "execution_count": null,
   "metadata": {
    "colab": {
     "base_uri": "https://localhost:8080/",
     "height": 173
    },
    "colab_type": "code",
    "id": "jNnRlbwZzL4O",
    "outputId": "d5f509e8-4a6b-46a2-aae8-30ded1eabade"
   },
   "outputs": [
    {
     "name": "stdout",
     "output_type": "stream",
     "text": [
      "WARNING:tensorflow:From C:\\Users\\Dhanjal\\AppData\\Local\\Continuum\\anaconda3\\envs\\tensorflow\\lib\\site-packages\\keras\\optimizers.py:790: The name tf.train.Optimizer is deprecated. Please use tf.compat.v1.train.Optimizer instead.\n",
      "\n",
      "WARNING:tensorflow:From C:\\Users\\Dhanjal\\AppData\\Local\\Continuum\\anaconda3\\envs\\tensorflow\\lib\\site-packages\\keras\\backend\\tensorflow_backend.py:3295: The name tf.log is deprecated. Please use tf.math.log instead.\n",
      "\n",
      "Train on 132651 samples, validate on 23409 samples\n",
      "Epoch 1/1\n",
      "  2400/132651 [..............................] - ETA: 57:18 - loss: 1.5325 - acc: 0.5083"
     ]
    }
   ],
   "source": [
    "model.compile(\n",
    "    optimizer= 'adam',\n",
    "    loss= 'categorical_crossentropy',\n",
    "    metrics= ['accuracy']\n",
    ")\n",
    "\n",
    "model.fit(\n",
    "    X_train,\n",
    "    Y_train,\n",
    "    batch_size= BATCH_SIZE,\n",
    "    epochs= EPOCHS,\n",
    "    verbose= 1,\n",
    "    validation_data= (X_val, Y_val)\n",
    ")"
   ]
  },
  {
   "cell_type": "code",
   "execution_count": null,
   "metadata": {
    "colab": {},
    "colab_type": "code",
    "id": "jVA1Cl6Ez9Ot"
   },
   "outputs": [],
   "source": [
    "model.predict(data_test, verbose= 1)"
   ]
  },
  {
   "cell_type": "code",
   "execution_count": null,
   "metadata": {},
   "outputs": [],
   "source": []
  }
 ],
 "metadata": {
  "accelerator": "GPU",
  "colab": {
   "collapsed_sections": [],
   "name": "Sentiment_RT.ipynb",
   "provenance": [],
   "toc_visible": true
  },
  "kernelspec": {
   "display_name": "Python 3",
   "language": "python",
   "name": "python3"
  },
  "language_info": {
   "codemirror_mode": {
    "name": "ipython",
    "version": 3
   },
   "file_extension": ".py",
   "mimetype": "text/x-python",
   "name": "python",
   "nbconvert_exporter": "python",
   "pygments_lexer": "ipython3",
   "version": "3.7.5"
  }
 },
 "nbformat": 4,
 "nbformat_minor": 1
}
